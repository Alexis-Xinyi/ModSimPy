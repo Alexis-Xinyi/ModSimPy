{
 "cells": [
  {
   "cell_type": "code",
   "execution_count": 35,
   "metadata": {},
   "outputs": [],
   "source": [
    "# Configure Jupyter so figures appear in the notebook\n",
    "%matplotlib inline\n",
    "\n",
    "# Configure Jupyter to display the assigned value after an assignment\n",
    "%config InteractiveShell.ast_node_interactivity='last_expr_or_assign'\n",
    "\n",
    "# import functions from the modsim.py module\n",
    "from modsim import * \n",
    "\n",
    "from numpy import *"
   ]
  },
  {
   "cell_type": "markdown",
   "metadata": {},
   "source": [
    "# Binary System of Sirius and The Third Star\n",
    "---\n",
    "## Question: \n",
    "### How would a third star affect the existing binary star system of Sirius A and B?\n",
    "---\n",
    "\n",
    "Binary-star systems are pretty common and stable in the universe, as one of the nearest and most common one, Sirius system is something realistic we can discuss. The small fluctuation on orbit of Sirius A led the assumption that a third tiny star is orbiting around it. We can model the orbit of this potential third star and then expand the trinary-star system by discussing different position of the third star in this system.\n",
    "\n",
    "And mostly it was stated that the trinary system (especially when there is one in the system significantly lighter than others) is very unstable, they will eventually collapse or be thrown away until there are only 2 left in the system. We will test that in the model and see how initial position can affect the orbits."
   ]
  },
  {
   "cell_type": "markdown",
   "metadata": {},
   "source": [
    "# Method:\n",
    "\n",
    "The model uses ode solver to calculate celestial problems. We use the derivate of position and velocity, which are velocity and accelaration, tp update the orbit. Different initial velocities are tested to make sure the stars would not collapse at the very beginning. "
   ]
  },
  {
   "cell_type": "code",
   "execution_count": 36,
   "metadata": {},
   "outputs": [
    {
     "data": {
      "text/html": [
       "meter"
      ],
      "text/latex": [
       "$meter$"
      ],
      "text/plain": [
       "<Unit('meter')>"
      ]
     },
     "execution_count": 36,
     "metadata": {},
     "output_type": "execute_result"
    }
   ],
   "source": [
    "# Units \n",
    "s = UNITS.second\n",
    "N = UNITS.newton\n",
    "kg = UNITS.kilogram\n",
    "m = UNITS.meter\n",
    "\n"
   ]
  },
  {
   "cell_type": "code",
   "execution_count": 37,
   "metadata": {},
   "outputs": [
    {
     "data": {
      "text/html": [
       "6955000000.0 meter"
      ],
      "text/latex": [
       "$6955000000.0 meter$"
      ],
      "text/plain": [
       "<Quantity(6955000000.0, 'meter')>"
      ]
     },
     "execution_count": 37,
     "metadata": {},
     "output_type": "execute_result"
    }
   ],
   "source": [
    "\"\"\"\n",
    "Some constant:\n",
    "\n",
    "r_0: distance between Sirius A and B.\n",
    "T: period of this system, about 50 years.\n",
    "m_sun: mass of the sun.\n",
    "r_sun: radius of the sun.\n",
    "\"\"\"\n",
    "r_0 = 2.992e12 * m\n",
    "T = 51 * 365 * 24 * 60*60 * s\n",
    "m_sun = 1.989e30*kg\n",
    "r_sun = 6.955*10e8 *m"
   ]
  },
  {
   "cell_type": "markdown",
   "metadata": {},
   "source": [
    "Given the period of 50 years and the radius, we can calculate the velocity from the expected circumstance divided by time."
   ]
  },
  {
   "cell_type": "code",
   "execution_count": 38,
   "metadata": {},
   "outputs": [
    {
     "data": {
      "text/html": [
       "<div>\n",
       "<style scoped>\n",
       "    .dataframe tbody tr th:only-of-type {\n",
       "        vertical-align: middle;\n",
       "    }\n",
       "\n",
       "    .dataframe tbody tr th {\n",
       "        vertical-align: top;\n",
       "    }\n",
       "\n",
       "    .dataframe thead th {\n",
       "        text-align: right;\n",
       "    }\n",
       "</style>\n",
       "<table border=\"1\" class=\"dataframe\">\n",
       "  <thead>\n",
       "    <tr style=\"text-align: right;\">\n",
       "      <th></th>\n",
       "      <th>values</th>\n",
       "    </tr>\n",
       "  </thead>\n",
       "  <tbody>\n",
       "    <tr>\n",
       "      <th>xA</th>\n",
       "      <td>-997333333333.3334 meter</td>\n",
       "    </tr>\n",
       "    <tr>\n",
       "      <th>yA</th>\n",
       "      <td>0 meter</td>\n",
       "    </tr>\n",
       "    <tr>\n",
       "      <th>vxA</th>\n",
       "      <td>0.0 meter / second</td>\n",
       "    </tr>\n",
       "    <tr>\n",
       "      <th>vyA</th>\n",
       "      <td>3896.219537683942 meter / second</td>\n",
       "    </tr>\n",
       "    <tr>\n",
       "      <th>xB</th>\n",
       "      <td>1994666666666.6667 meter</td>\n",
       "    </tr>\n",
       "    <tr>\n",
       "      <th>yB</th>\n",
       "      <td>0 meter</td>\n",
       "    </tr>\n",
       "    <tr>\n",
       "      <th>vxB</th>\n",
       "      <td>0.0 meter / second</td>\n",
       "    </tr>\n",
       "    <tr>\n",
       "      <th>vyB</th>\n",
       "      <td>-7792.439075367884 meter / second</td>\n",
       "    </tr>\n",
       "  </tbody>\n",
       "</table>\n",
       "</div>"
      ],
      "text/plain": [
       "xA              -997333333333.3334 meter\n",
       "yA                               0 meter\n",
       "vxA                   0.0 meter / second\n",
       "vyA     3896.219537683942 meter / second\n",
       "xB              1994666666666.6667 meter\n",
       "yB                               0 meter\n",
       "vxB                   0.0 meter / second\n",
       "vyB    -7792.439075367884 meter / second\n",
       "dtype: object"
      ]
     },
     "execution_count": 38,
     "metadata": {},
     "output_type": "execute_result"
    }
   ],
   "source": [
    "init = State(xA = -r_0 *1/3,\n",
    "             yA = 0 *m,\n",
    "             vxA = 0 *m/s,\n",
    "             vyA = 2*pi*r_0/(3*T),\n",
    "             xB = r_0*2/3,\n",
    "             yB = 0 * m,\n",
    "             vxB = 0 *m/s,\n",
    "             vyB = -4*pi*r_0 /(3*T)\n",
    "            )"
   ]
  },
  {
   "cell_type": "markdown",
   "metadata": {},
   "source": [
    "The mass of Sirius A is 2.1 times the mass of the sun, rounded to 2.\n",
    "The mass of Sirius B is 0.98 times the mass of the sun, rounded to 1.\n",
    "Therefore the center of mass is at 1/3 of the distance from Sirius A to B."
   ]
  },
  {
   "cell_type": "code",
   "execution_count": 39,
   "metadata": {},
   "outputs": [
    {
     "data": {
      "text/html": [
       "<div>\n",
       "<style scoped>\n",
       "    .dataframe tbody tr th:only-of-type {\n",
       "        vertical-align: middle;\n",
       "    }\n",
       "\n",
       "    .dataframe tbody tr th {\n",
       "        vertical-align: top;\n",
       "    }\n",
       "\n",
       "    .dataframe thead th {\n",
       "        text-align: right;\n",
       "    }\n",
       "</style>\n",
       "<table border=\"1\" class=\"dataframe\">\n",
       "  <thead>\n",
       "    <tr style=\"text-align: right;\">\n",
       "      <th></th>\n",
       "      <th>values</th>\n",
       "    </tr>\n",
       "  </thead>\n",
       "  <tbody>\n",
       "    <tr>\n",
       "      <th>init</th>\n",
       "      <td>xA              -997333333333.3334 meter\n",
       "yA   ...</td>\n",
       "    </tr>\n",
       "    <tr>\n",
       "      <th>G</th>\n",
       "      <td>6.674e-11 meter ** 2 * newton / kilogram ** 2</td>\n",
       "    </tr>\n",
       "    <tr>\n",
       "      <th>mA</th>\n",
       "      <td>3.978e+30 kilogram</td>\n",
       "    </tr>\n",
       "    <tr>\n",
       "      <th>mB</th>\n",
       "      <td>1.989e+30 kilogram</td>\n",
       "    </tr>\n",
       "    <tr>\n",
       "      <th>rA</th>\n",
       "      <td>11893050000.0 meter</td>\n",
       "    </tr>\n",
       "    <tr>\n",
       "      <th>rB</th>\n",
       "      <td>55640000.0 meter</td>\n",
       "    </tr>\n",
       "    <tr>\n",
       "      <th>t_0</th>\n",
       "      <td>0 second</td>\n",
       "    </tr>\n",
       "    <tr>\n",
       "      <th>t_end</th>\n",
       "      <td>1608336000 second</td>\n",
       "    </tr>\n",
       "  </tbody>\n",
       "</table>\n",
       "</div>"
      ],
      "text/plain": [
       "init     xA              -997333333333.3334 meter\n",
       "yA   ...\n",
       "G            6.674e-11 meter ** 2 * newton / kilogram ** 2\n",
       "mA                                      3.978e+30 kilogram\n",
       "mB                                      1.989e+30 kilogram\n",
       "rA                                     11893050000.0 meter\n",
       "rB                                        55640000.0 meter\n",
       "t_0                                               0 second\n",
       "t_end                                    1608336000 second\n",
       "dtype: object"
      ]
     },
     "execution_count": 39,
     "metadata": {},
     "output_type": "execute_result"
    }
   ],
   "source": [
    "\n",
    "system = System(init = init,\n",
    "                 G = 6.674e-11 * N / kg**2 * m**2,\n",
    "                 mA = 2*m_sun, \n",
    "                 mB = m_sun,\n",
    "                 rA = 1.71 * r_sun,\n",
    "                 rB= 0.008*r_sun,\n",
    "                 t_0 = 0 *s,\n",
    "                 t_end = T)\n"
   ]
  },
  {
   "cell_type": "code",
   "execution_count": 40,
   "metadata": {},
   "outputs": [],
   "source": [
    "def universal_gravity(state, system):    \n",
    "    \"\"\"\"\n",
    "    Calculating gravitational force between Sirius A and Sirius B\n",
    "    Taking the center of mass as origin\n",
    "    xA, yA: posistion of Sirius A \n",
    "    xB, yB: position of Sirius B\n",
    "    vxA, vyA: velocity of Sirius A\n",
    "    vxB, vyB: velocity of Sirius B\n",
    "    \n",
    "    AB: the vector from B to A\n",
    "    BA: the vector from A to B\n",
    "    \"\"\"\n",
    "    xA, yA, vxA, vyA, xB, yB, vxB, vyB = state\n",
    "    unpack(system)\n",
    "    posA = Vector (xA, yA)\n",
    "    posB = Vector (xB, yB)\n",
    "    \n",
    "    AB = posB-posA\n",
    "    BA = posA-posB\n",
    "    forceA =AB.hat() * G * mA *mB/ AB.mag**2\n",
    "    forceB = BA.hat() * G *mA*mB / BA.mag **2\n",
    "    \n",
    "    return forceA, forceB\n",
    "    "
   ]
  },
  {
   "cell_type": "code",
   "execution_count": 41,
   "metadata": {},
   "outputs": [],
   "source": [
    "def slope_func(state, t, system):\n",
    "    xA, yA, vxA, vyA, xB, yB, vxB, vyB= state\n",
    "    unpack(system)\n",
    "    \n",
    "    forceA,forceB = universal_gravity(state, system)\n",
    "    accA = forceA / mA\n",
    "    accB = forceB / mB\n",
    "    accAx = accA[0]\n",
    "    accAy = accA[1]\n",
    "    accBx = accB[0]\n",
    "    accBy = accB[1]\n",
    "    \n",
    "    \n",
    "    return vxA, vyA, accAx ,accAy, vxB, vyB, accBx, accBy\n",
    "    "
   ]
  },
  {
   "cell_type": "code",
   "execution_count": 42,
   "metadata": {},
   "outputs": [
    {
     "data": {
      "text/html": [
       "<div>\n",
       "<style scoped>\n",
       "    .dataframe tbody tr th:only-of-type {\n",
       "        vertical-align: middle;\n",
       "    }\n",
       "\n",
       "    .dataframe tbody tr th {\n",
       "        vertical-align: top;\n",
       "    }\n",
       "\n",
       "    .dataframe thead th {\n",
       "        text-align: right;\n",
       "    }\n",
       "</style>\n",
       "<table border=\"1\" class=\"dataframe\">\n",
       "  <thead>\n",
       "    <tr style=\"text-align: right;\">\n",
       "      <th></th>\n",
       "      <th>values</th>\n",
       "    </tr>\n",
       "  </thead>\n",
       "  <tbody>\n",
       "    <tr>\n",
       "      <th>sol</th>\n",
       "      <td>None</td>\n",
       "    </tr>\n",
       "    <tr>\n",
       "      <th>t_events</th>\n",
       "      <td>[]</td>\n",
       "    </tr>\n",
       "    <tr>\n",
       "      <th>nfev</th>\n",
       "      <td>140</td>\n",
       "    </tr>\n",
       "    <tr>\n",
       "      <th>njev</th>\n",
       "      <td>0</td>\n",
       "    </tr>\n",
       "    <tr>\n",
       "      <th>nlu</th>\n",
       "      <td>0</td>\n",
       "    </tr>\n",
       "    <tr>\n",
       "      <th>status</th>\n",
       "      <td>0</td>\n",
       "    </tr>\n",
       "    <tr>\n",
       "      <th>message</th>\n",
       "      <td>The solver successfully reached the end of the...</td>\n",
       "    </tr>\n",
       "    <tr>\n",
       "      <th>success</th>\n",
       "      <td>True</td>\n",
       "    </tr>\n",
       "  </tbody>\n",
       "</table>\n",
       "</div>"
      ],
      "text/plain": [
       "sol                                                      None\n",
       "t_events                                                   []\n",
       "nfev                                                      140\n",
       "njev                                                        0\n",
       "nlu                                                         0\n",
       "status                                                      0\n",
       "message     The solver successfully reached the end of the...\n",
       "success                                                  True\n",
       "dtype: object"
      ]
     },
     "execution_count": 42,
     "metadata": {},
     "output_type": "execute_result"
    }
   ],
   "source": [
    "results, details = run_ode_solver(system, slope_func)\n",
    "details"
   ]
  },
  {
   "cell_type": "code",
   "execution_count": 43,
   "metadata": {},
   "outputs": [
    {
     "data": {
      "text/html": [
       "1608336000.0 second"
      ],
      "text/latex": [
       "$1608336000.0 second$"
      ],
      "text/plain": [
       "<Quantity(1608336000.0, 'second')>"
      ]
     },
     "execution_count": 43,
     "metadata": {},
     "output_type": "execute_result"
    }
   ],
   "source": [
    "t_final = get_last_label(results) * s"
   ]
  },
  {
   "cell_type": "code",
   "execution_count": 44,
   "metadata": {},
   "outputs": [
    {
     "data": {
      "text/html": [
       "50.96618096735545 year"
      ],
      "text/latex": [
       "$50.96618096735545 year$"
      ],
      "text/plain": [
       "<Quantity(50.96618096735545, 'year')>"
      ]
     },
     "execution_count": 44,
     "metadata": {},
     "output_type": "execute_result"
    }
   ],
   "source": [
    "t_final.to(UNITS.years)"
   ]
  },
  {
   "cell_type": "code",
   "execution_count": 45,
   "metadata": {},
   "outputs": [],
   "source": [
    "ts = linspace(t_0, t_final, 500)\n",
    "results, details = run_ode_solver(system, slope_func, t_eval=ts)"
   ]
  },
  {
   "cell_type": "code",
   "execution_count": 46,
   "metadata": {},
   "outputs": [],
   "source": [
    "# Converting from meter to kilometer\n",
    "xa = results.xA/10e3;\n",
    "ya = results.yA/10e3;\n",
    "xb = results.xB/10e3;\n",
    "yb = results.yB/10e3;"
   ]
  },
  {
   "cell_type": "code",
   "execution_count": 47,
   "metadata": {},
   "outputs": [
    {
     "data": {
      "image/png": "[encoded data removed]",
      "text/plain": [
       "<Figure size 432x288 with 1 Axes>"
      ]
     },
     "metadata": {},
     "output_type": "display_data"
    }
   ],
   "source": [
    "plot (xa, ya, 'b',label = 'Sirius A')\n",
    "plot (xb,yb, 'g', label = 'Sirius B')\n",
    "\n",
    "decorate(title = \"Position and Orbit of Sirius A and B \",\n",
    "        xlabel = 'Distance from the center of Mass (km)',\n",
    "        ylabel = 'Distance from the Center of Mass (km)')"
   ]
  },
  {
   "cell_type": "markdown",
   "metadata": {},
   "source": [
    "## Adding the third star:\n",
    "\n",
    "Scientists believe there is a third star orbiting around Sirius A with a small mass and period less than 5 years. The distance is belived to be smaller than 3 arcsenconds from Sirius A, which is approximately 20 times the radius if Sirius A."
   ]
  },
  {
   "cell_type": "code",
   "execution_count": 48,
   "metadata": {},
   "outputs": [
    {
     "data": {
      "text/html": [
       "<div>\n",
       "<style scoped>\n",
       "    .dataframe tbody tr th:only-of-type {\n",
       "        vertical-align: middle;\n",
       "    }\n",
       "\n",
       "    .dataframe tbody tr th {\n",
       "        vertical-align: top;\n",
       "    }\n",
       "\n",
       "    .dataframe thead th {\n",
       "        text-align: right;\n",
       "    }\n",
       "</style>\n",
       "<table border=\"1\" class=\"dataframe\">\n",
       "  <thead>\n",
       "    <tr style=\"text-align: right;\">\n",
       "      <th></th>\n",
       "      <th>values</th>\n",
       "    </tr>\n",
       "  </thead>\n",
       "  <tbody>\n",
       "    <tr>\n",
       "      <th>xA</th>\n",
       "      <td>-997333333333.3334 meter</td>\n",
       "    </tr>\n",
       "    <tr>\n",
       "      <th>yA</th>\n",
       "      <td>0 meter</td>\n",
       "    </tr>\n",
       "    <tr>\n",
       "      <th>vxA</th>\n",
       "      <td>0.0 meter / second</td>\n",
       "    </tr>\n",
       "    <tr>\n",
       "      <th>vyA</th>\n",
       "      <td>3896.219537683942 meter / second</td>\n",
       "    </tr>\n",
       "    <tr>\n",
       "      <th>xB</th>\n",
       "      <td>1994666666666.6667 meter</td>\n",
       "    </tr>\n",
       "    <tr>\n",
       "      <th>yB</th>\n",
       "      <td>0 meter</td>\n",
       "    </tr>\n",
       "    <tr>\n",
       "      <th>vxB</th>\n",
       "      <td>0.0 meter / second</td>\n",
       "    </tr>\n",
       "    <tr>\n",
       "      <th>vyB</th>\n",
       "      <td>-7792.439075367884 meter / second</td>\n",
       "    </tr>\n",
       "    <tr>\n",
       "      <th>xC</th>\n",
       "      <td>-521611333333.3334 meter</td>\n",
       "    </tr>\n",
       "    <tr>\n",
       "      <th>yC</th>\n",
       "      <td>0 meter</td>\n",
       "    </tr>\n",
       "    <tr>\n",
       "      <th>vxC</th>\n",
       "      <td>0.0 meter / second</td>\n",
       "    </tr>\n",
       "    <tr>\n",
       "      <th>vyC</th>\n",
       "      <td>-22567.175538629224 meter / second</td>\n",
       "    </tr>\n",
       "  </tbody>\n",
       "</table>\n",
       "</div>"
      ],
      "text/plain": [
       "xA               -997333333333.3334 meter\n",
       "yA                                0 meter\n",
       "vxA                    0.0 meter / second\n",
       "vyA      3896.219537683942 meter / second\n",
       "xB               1994666666666.6667 meter\n",
       "yB                                0 meter\n",
       "vxB                    0.0 meter / second\n",
       "vyB     -7792.439075367884 meter / second\n",
       "xC               -521611333333.3334 meter\n",
       "yC                                0 meter\n",
       "vxC                    0.0 meter / second\n",
       "vyC    -22567.175538629224 meter / second\n",
       "dtype: object"
      ]
     },
     "execution_count": 48,
     "metadata": {},
     "output_type": "execute_result"
    }
   ],
   "source": [
    "\"\"\"\n",
    "TC: Period of the third star.\n",
    "Adding position and velocity of Star C into the state object.\n",
    "\"\"\"\n",
    "\n",
    "TC = 4.2* 365 * 24 * 60 *60 *s\n",
    "init = State (   xA = -r_0 *1/3,\n",
    "                 yA = 0 *m,\n",
    "                 vxA = 0 *m/s,\n",
    "                 vyA = 2*pi*r_0/(3*T),\n",
    "                 xB = r_0*2/3,\n",
    "                 yB = 0 * m,\n",
    "                 vxB = 0 *m/s,\n",
    "                 vyB = -4*pi*r_0 /(3*T),\n",
    "                 xC = -r_0/3 + 40*system.rA,\n",
    "                 yC = 0*m,\n",
    "                 vxC = 0 *m / s,\n",
    "                 vyC = -80 * pi * system.rA  / TC\n",
    "    )"
   ]
  },
  {
   "cell_type": "code",
   "execution_count": 49,
   "metadata": {},
   "outputs": [
    {
     "data": {
      "text/html": [
       "<div>\n",
       "<style scoped>\n",
       "    .dataframe tbody tr th:only-of-type {\n",
       "        vertical-align: middle;\n",
       "    }\n",
       "\n",
       "    .dataframe tbody tr th {\n",
       "        vertical-align: top;\n",
       "    }\n",
       "\n",
       "    .dataframe thead th {\n",
       "        text-align: right;\n",
       "    }\n",
       "</style>\n",
       "<table border=\"1\" class=\"dataframe\">\n",
       "  <thead>\n",
       "    <tr style=\"text-align: right;\">\n",
       "      <th></th>\n",
       "      <th>values</th>\n",
       "    </tr>\n",
       "  </thead>\n",
       "  <tbody>\n",
       "    <tr>\n",
       "      <th>mC</th>\n",
       "      <td>9.945e+28 kilogram</td>\n",
       "    </tr>\n",
       "    <tr>\n",
       "      <th>init</th>\n",
       "      <td>xA               -997333333333.3334 meter\n",
       "yA  ...</td>\n",
       "    </tr>\n",
       "    <tr>\n",
       "      <th>G</th>\n",
       "      <td>6.674e-11 meter ** 2 * newton / kilogram ** 2</td>\n",
       "    </tr>\n",
       "    <tr>\n",
       "      <th>mA</th>\n",
       "      <td>3.978e+30 kilogram</td>\n",
       "    </tr>\n",
       "    <tr>\n",
       "      <th>mB</th>\n",
       "      <td>1.989e+30 kilogram</td>\n",
       "    </tr>\n",
       "    <tr>\n",
       "      <th>rA</th>\n",
       "      <td>11893050000.0 meter</td>\n",
       "    </tr>\n",
       "    <tr>\n",
       "      <th>rB</th>\n",
       "      <td>55640000.0 meter</td>\n",
       "    </tr>\n",
       "    <tr>\n",
       "      <th>t_0</th>\n",
       "      <td>0 second</td>\n",
       "    </tr>\n",
       "    <tr>\n",
       "      <th>t_end</th>\n",
       "      <td>1608336000 second</td>\n",
       "    </tr>\n",
       "  </tbody>\n",
       "</table>\n",
       "</div>"
      ],
      "text/plain": [
       "mC                                      9.945e+28 kilogram\n",
       "init     xA               -997333333333.3334 meter\n",
       "yA  ...\n",
       "G            6.674e-11 meter ** 2 * newton / kilogram ** 2\n",
       "mA                                      3.978e+30 kilogram\n",
       "mB                                      1.989e+30 kilogram\n",
       "rA                                     11893050000.0 meter\n",
       "rB                                        55640000.0 meter\n",
       "t_0                                               0 second\n",
       "t_end                                    1608336000 second\n",
       "dtype: object"
      ]
     },
     "execution_count": 49,
     "metadata": {},
     "output_type": "execute_result"
    }
   ],
   "source": [
    "\n",
    "system = System(mC = 0.05*m_sun,\n",
    "                 init = init,\n",
    "                 G = 6.674e-11 * N / kg**2 * m**2,\n",
    "                 mA = 2*m_sun, \n",
    "                 mB = m_sun,\n",
    "                 rA = 1.71 * r_sun,\n",
    "                 rB= 0.008*r_sun,\n",
    "                 t_0 = 0 *s,\n",
    "                 t_end = T\n",
    "                 \n",
    "                )"
   ]
  },
  {
   "cell_type": "markdown",
   "metadata": {},
   "source": [
    "Since the third star is significantly lighter than the 2"
   ]
  },
  {
   "cell_type": "code",
   "execution_count": 50,
   "metadata": {},
   "outputs": [],
   "source": [
    "def universal_gravity(state, system):    \n",
    "    \"\"\"\"\n",
    "    Calculating gravitational force between Sirius A and Sirius B\n",
    "    Taking the center of mass as origin\n",
    "    xA, yA: posistion of Sirius A \n",
    "    xB, yB: position of Sirius B\n",
    "    vxA, vyA: velocity of Sirius A\n",
    "    vxB, vyB: velocity of Sirius B\n",
    "    xC, yC: position of the third star\n",
    "    vxC, vyC: velocity of the third star\n",
    "    \"\"\"\n",
    "    xA, yA, vxA, vyA, xB, yB, vxB, vyB, xC, yC, vxC, vyC= state\n",
    "    unpack(system)\n",
    "    posA = Vector (xA, yA)\n",
    "    posB = Vector (xB, yB)\n",
    "    posC = Vector (xC, yC)\n",
    "    AB = posB-posA\n",
    "    BA = posA-posB\n",
    "    AC = posA - posC\n",
    "    BC = posB - posC\n",
    "    \n",
    "    forceAC = AC.hat() * G * mA * mC / AC.mag **2\n",
    "    forceBC = BC.hat() * G * mB * mC / BC.mag **2\n",
    "    forceA =AB.hat() * G * mA *mB/ AB.mag**2 \n",
    "    forceB = BA.hat() * G *mA*mB / BA.mag **2 \n",
    "    \n",
    "    forceC = forceAC + forceBC\n",
    "    \n",
    "    return forceA, forceB,forceC\n",
    "    "
   ]
  },
  {
   "cell_type": "code",
   "execution_count": 51,
   "metadata": {},
   "outputs": [
    {
     "data": {
      "text/plain": [
       "(<Quantity([5.89878525e+25 0.00000000e+00], 'newton')>,\n",
       " <Quantity([-5.89878525e+25  0.00000000e+00], 'newton')>,\n",
       " <Quantity([-1.14582328e+26  0.00000000e+00], 'newton')>)"
      ]
     },
     "execution_count": 51,
     "metadata": {},
     "output_type": "execute_result"
    }
   ],
   "source": [
    "universal_gravity(init, system)"
   ]
  },
  {
   "cell_type": "code",
   "execution_count": 52,
   "metadata": {},
   "outputs": [],
   "source": [
    "def slope_func(state, t, system):\n",
    "    xA, yA, vxA, vyA, xB, yB, vxB, vyB, xC, yC, vxC, vyC= state\n",
    "    unpack(system)\n",
    "    \n",
    "    forceA,forceB, forceC = universal_gravity(state, system)\n",
    "    accA = forceA / mA\n",
    "    accB = forceB / mB\n",
    "    accC = forceC/ mC\n",
    "    accAx = accA[0]\n",
    "    accAy = accA[1]\n",
    "    accBx = accB[0]\n",
    "    accBy = accB[1]\n",
    "    accCx = accC[0]\n",
    "    accCy = accC[1]    \n",
    "\n",
    "    \n",
    "    return vxA, vyA, accAx ,accAy, vxB, vyB, accBx, accBy, vxC, vyC, accCx, accCy\n",
    "    "
   ]
  },
  {
   "cell_type": "code",
   "execution_count": 53,
   "metadata": {},
   "outputs": [
    {
     "data": {
      "text/plain": [
       "(<Quantity(0.0, 'meter / second')>,\n",
       " <Quantity(3896.219537683942, 'meter / second')>,\n",
       " <Quantity(1.4828519992707826e-05, 'newton / kilogram')>,\n",
       " <Quantity(0.0, 'newton / kilogram')>,\n",
       " <Quantity(0.0, 'meter / second')>,\n",
       " <Quantity(-7792.439075367884, 'meter / second')>,\n",
       " <Quantity(-2.965703998541565e-05, 'newton / kilogram')>,\n",
       " <Quantity(0.0, 'newton / kilogram')>,\n",
       " <Quantity(0.0, 'meter / second')>,\n",
       " <Quantity(-22567.175538629224, 'meter / second')>,\n",
       " <Quantity(-0.0011521601631314254, 'newton / kilogram')>,\n",
       " <Quantity(0.0, 'newton / kilogram')>)"
      ]
     },
     "execution_count": 53,
     "metadata": {},
     "output_type": "execute_result"
    }
   ],
   "source": [
    "slope_func (init, 0, system)"
   ]
  },
  {
   "cell_type": "code",
   "execution_count": 54,
   "metadata": {},
   "outputs": [
    {
     "data": {
      "text/html": [
       "<div>\n",
       "<style scoped>\n",
       "    .dataframe tbody tr th:only-of-type {\n",
       "        vertical-align: middle;\n",
       "    }\n",
       "\n",
       "    .dataframe tbody tr th {\n",
       "        vertical-align: top;\n",
       "    }\n",
       "\n",
       "    .dataframe thead th {\n",
       "        text-align: right;\n",
       "    }\n",
       "</style>\n",
       "<table border=\"1\" class=\"dataframe\">\n",
       "  <thead>\n",
       "    <tr style=\"text-align: right;\">\n",
       "      <th></th>\n",
       "      <th>values</th>\n",
       "    </tr>\n",
       "  </thead>\n",
       "  <tbody>\n",
       "    <tr>\n",
       "      <th>sol</th>\n",
       "      <td>None</td>\n",
       "    </tr>\n",
       "    <tr>\n",
       "      <th>t_events</th>\n",
       "      <td>[]</td>\n",
       "    </tr>\n",
       "    <tr>\n",
       "      <th>nfev</th>\n",
       "      <td>740</td>\n",
       "    </tr>\n",
       "    <tr>\n",
       "      <th>njev</th>\n",
       "      <td>0</td>\n",
       "    </tr>\n",
       "    <tr>\n",
       "      <th>nlu</th>\n",
       "      <td>0</td>\n",
       "    </tr>\n",
       "    <tr>\n",
       "      <th>status</th>\n",
       "      <td>0</td>\n",
       "    </tr>\n",
       "    <tr>\n",
       "      <th>message</th>\n",
       "      <td>The solver successfully reached the end of the...</td>\n",
       "    </tr>\n",
       "    <tr>\n",
       "      <th>success</th>\n",
       "      <td>True</td>\n",
       "    </tr>\n",
       "  </tbody>\n",
       "</table>\n",
       "</div>"
      ],
      "text/plain": [
       "sol                                                      None\n",
       "t_events                                                   []\n",
       "nfev                                                      740\n",
       "njev                                                        0\n",
       "nlu                                                         0\n",
       "status                                                      0\n",
       "message     The solver successfully reached the end of the...\n",
       "success                                                  True\n",
       "dtype: object"
      ]
     },
     "execution_count": 54,
     "metadata": {},
     "output_type": "execute_result"
    }
   ],
   "source": [
    "results, details = run_ode_solver(system, slope_func)\n",
    "details"
   ]
  },
  {
   "cell_type": "code",
   "execution_count": 55,
   "metadata": {},
   "outputs": [
    {
     "data": {
      "text/html": [
       "1608336000.0 second"
      ],
      "text/latex": [
       "$1608336000.0 second$"
      ],
      "text/plain": [
       "<Quantity(1608336000.0, 'second')>"
      ]
     },
     "execution_count": 55,
     "metadata": {},
     "output_type": "execute_result"
    }
   ],
   "source": [
    "t_final = get_last_label(results) * s"
   ]
  },
  {
   "cell_type": "code",
   "execution_count": 56,
   "metadata": {},
   "outputs": [
    {
     "data": {
      "text/html": [
       "50.96618096735545 year"
      ],
      "text/latex": [
       "$50.96618096735545 year$"
      ],
      "text/plain": [
       "<Quantity(50.96618096735545, 'year')>"
      ]
     },
     "execution_count": 56,
     "metadata": {},
     "output_type": "execute_result"
    }
   ],
   "source": [
    "t_final.to(UNITS.years)"
   ]
  },
  {
   "cell_type": "code",
   "execution_count": 57,
   "metadata": {},
   "outputs": [],
   "source": [
    "ts = linspace(t_0, t_final, 500)\n",
    "results, details = run_ode_solver(system, slope_func, t_eval=ts)\n",
    "results;"
   ]
  },
  {
   "cell_type": "code",
   "execution_count": 58,
   "metadata": {},
   "outputs": [],
   "source": [
    "xa = results.xA;\n",
    "ya = results.yA;\n",
    "xb = results.xB;\n",
    "yb = results.yB;\n",
    "xc = results.xC;\n",
    "yc = results.yC;"
   ]
  },
  {
   "cell_type": "code",
   "execution_count": 59,
   "metadata": {},
   "outputs": [
    {
     "data": {
      "image/png": "[encoded data removed]",
      "text/plain": [
       "<Figure size 432x288 with 1 Axes>"
      ]
     },
     "metadata": {},
     "output_type": "display_data"
    }
   ],
   "source": [
    "plot(xa, ya, 'b', label = 'Sirius A')\n",
    "plot(xb,yb, 'g', label = 'Sirius B')\n",
    "plot(xc,yc,'r' , label = 'Third star')\n",
    "\n",
    "decorate(title = \"Position and Orbit of Sirius A and B \",\n",
    "        xlabel = 'Distance from the center of Mass (km)',\n",
    "        ylabel = 'Distance from the Center of Mass (km)')"
   ]
  },
  {
   "cell_type": "markdown",
   "metadata": {},
   "source": [
    "We can see that even though the third star is mostly orbiting around Sirius A, it is stil affected by the gravitational force from B, and the velocity is not enough to contradict the force from Sirius A. Therefore the orbit of the third star radius is getting smaller and smaller. We can even predict that it will eventually run into A and become a part of SiriusA. "
   ]
  },
  {
   "cell_type": "markdown",
   "metadata": {},
   "source": [
    "## If the third star is far away from the Sirius A and B system:\n",
    "\n",
    "It is actually theoretically the most stable trinary star system. Because the third star is so far away from the original binary system that we can actually view them as a planet orbiting a SINGLE star."
   ]
  },
  {
   "cell_type": "code",
   "execution_count": 60,
   "metadata": {},
   "outputs": [
    {
     "data": {
      "text/html": [
       "<div>\n",
       "<style scoped>\n",
       "    .dataframe tbody tr th:only-of-type {\n",
       "        vertical-align: middle;\n",
       "    }\n",
       "\n",
       "    .dataframe tbody tr th {\n",
       "        vertical-align: top;\n",
       "    }\n",
       "\n",
       "    .dataframe thead th {\n",
       "        text-align: right;\n",
       "    }\n",
       "</style>\n",
       "<table border=\"1\" class=\"dataframe\">\n",
       "  <thead>\n",
       "    <tr style=\"text-align: right;\">\n",
       "      <th></th>\n",
       "      <th>values</th>\n",
       "    </tr>\n",
       "  </thead>\n",
       "  <tbody>\n",
       "    <tr>\n",
       "      <th>xA</th>\n",
       "      <td>-997333333333.3334 meter</td>\n",
       "    </tr>\n",
       "    <tr>\n",
       "      <th>yA</th>\n",
       "      <td>0 meter</td>\n",
       "    </tr>\n",
       "    <tr>\n",
       "      <th>vxA</th>\n",
       "      <td>0.0 meter / second</td>\n",
       "    </tr>\n",
       "    <tr>\n",
       "      <th>vyA</th>\n",
       "      <td>3896.219537683942 meter / second</td>\n",
       "    </tr>\n",
       "    <tr>\n",
       "      <th>xB</th>\n",
       "      <td>1994666666666.6667 meter</td>\n",
       "    </tr>\n",
       "    <tr>\n",
       "      <th>yB</th>\n",
       "      <td>0 meter</td>\n",
       "    </tr>\n",
       "    <tr>\n",
       "      <th>vxB</th>\n",
       "      <td>0.0 meter / second</td>\n",
       "    </tr>\n",
       "    <tr>\n",
       "      <th>vyB</th>\n",
       "      <td>-7792.439075367884 meter / second</td>\n",
       "    </tr>\n",
       "    <tr>\n",
       "      <th>xC</th>\n",
       "      <td>0 meter</td>\n",
       "    </tr>\n",
       "    <tr>\n",
       "      <th>yC</th>\n",
       "      <td>29920000000000.0 meter</td>\n",
       "    </tr>\n",
       "    <tr>\n",
       "      <th>vxC</th>\n",
       "      <td>3681.9274631113253 meter / second</td>\n",
       "    </tr>\n",
       "    <tr>\n",
       "      <th>vyC</th>\n",
       "      <td>0.0 meter / second</td>\n",
       "    </tr>\n",
       "  </tbody>\n",
       "</table>\n",
       "</div>"
      ],
      "text/plain": [
       "xA              -997333333333.3334 meter\n",
       "yA                               0 meter\n",
       "vxA                   0.0 meter / second\n",
       "vyA     3896.219537683942 meter / second\n",
       "xB              1994666666666.6667 meter\n",
       "yB                               0 meter\n",
       "vxB                   0.0 meter / second\n",
       "vyB    -7792.439075367884 meter / second\n",
       "xC                               0 meter\n",
       "yC                29920000000000.0 meter\n",
       "vxC    3681.9274631113253 meter / second\n",
       "vyC                   0.0 meter / second\n",
       "dtype: object"
      ]
     },
     "execution_count": 60,
     "metadata": {},
     "output_type": "execute_result"
    }
   ],
   "source": [
    "\n",
    "init = State (   xA = -r_0 *1/3,\n",
    "                 yA = 0 *m,\n",
    "                 vxA = 0 *m/s,\n",
    "                 vyA = 2*pi*r_0/(3*T),\n",
    "                 xB = r_0*2/3,\n",
    "                 yB = 0 * m,\n",
    "                 vxB = 0 *m/s,\n",
    "                 vyB = -4*pi*r_0 /(3*T),\n",
    "                 xC = 0 * m,\n",
    "                 yC =  10 * r_0,\n",
    "                 vxC = 0.63 * pi *r_0/T,\n",
    "                 vyC = 0 *m/s\n",
    "    )"
   ]
  },
  {
   "cell_type": "code",
   "execution_count": 61,
   "metadata": {},
   "outputs": [
    {
     "data": {
      "text/html": [
       "<div>\n",
       "<style scoped>\n",
       "    .dataframe tbody tr th:only-of-type {\n",
       "        vertical-align: middle;\n",
       "    }\n",
       "\n",
       "    .dataframe tbody tr th {\n",
       "        vertical-align: top;\n",
       "    }\n",
       "\n",
       "    .dataframe thead th {\n",
       "        text-align: right;\n",
       "    }\n",
       "</style>\n",
       "<table border=\"1\" class=\"dataframe\">\n",
       "  <thead>\n",
       "    <tr style=\"text-align: right;\">\n",
       "      <th></th>\n",
       "      <th>values</th>\n",
       "    </tr>\n",
       "  </thead>\n",
       "  <tbody>\n",
       "    <tr>\n",
       "      <th>mC</th>\n",
       "      <td>4.7736e+28 kilogram</td>\n",
       "    </tr>\n",
       "    <tr>\n",
       "      <th>init</th>\n",
       "      <td>xA              -997333333333.3334 meter\n",
       "yA   ...</td>\n",
       "    </tr>\n",
       "    <tr>\n",
       "      <th>G</th>\n",
       "      <td>6.674e-11 meter ** 2 * newton / kilogram ** 2</td>\n",
       "    </tr>\n",
       "    <tr>\n",
       "      <th>mA</th>\n",
       "      <td>3.978e+30 kilogram</td>\n",
       "    </tr>\n",
       "    <tr>\n",
       "      <th>mB</th>\n",
       "      <td>1.989e+30 kilogram</td>\n",
       "    </tr>\n",
       "    <tr>\n",
       "      <th>rA</th>\n",
       "      <td>11893050000.0 meter</td>\n",
       "    </tr>\n",
       "    <tr>\n",
       "      <th>rB</th>\n",
       "      <td>55640000.0 meter</td>\n",
       "    </tr>\n",
       "    <tr>\n",
       "      <th>t_0</th>\n",
       "      <td>0 second</td>\n",
       "    </tr>\n",
       "    <tr>\n",
       "      <th>t_end</th>\n",
       "      <td>11258352000 second</td>\n",
       "    </tr>\n",
       "  </tbody>\n",
       "</table>\n",
       "</div>"
      ],
      "text/plain": [
       "mC                                     4.7736e+28 kilogram\n",
       "init     xA              -997333333333.3334 meter\n",
       "yA   ...\n",
       "G            6.674e-11 meter ** 2 * newton / kilogram ** 2\n",
       "mA                                      3.978e+30 kilogram\n",
       "mB                                      1.989e+30 kilogram\n",
       "rA                                     11893050000.0 meter\n",
       "rB                                        55640000.0 meter\n",
       "t_0                                               0 second\n",
       "t_end                                   11258352000 second\n",
       "dtype: object"
      ]
     },
     "execution_count": 61,
     "metadata": {},
     "output_type": "execute_result"
    }
   ],
   "source": [
    "TC = 5 * 365 * 24 * 60 *60 *s\n",
    "system = System(mC = 0.024*m_sun,\n",
    "                 init = init,\n",
    "                 G = 6.674e-11 * N / kg**2 * m**2,\n",
    "                 mA = 2*m_sun, \n",
    "                 mB = m_sun,\n",
    "                 rA = 1.71 * r_sun,\n",
    "                 rB= 0.008*r_sun,\n",
    "                 t_0 = 0 *s,\n",
    "                 t_end = T *7\n",
    "                 \n",
    "                )"
   ]
  },
  {
   "cell_type": "code",
   "execution_count": 62,
   "metadata": {},
   "outputs": [],
   "source": [
    "def universal_gravity(state, system):    \n",
    "    \"\"\"\"\n",
    "    Calculating gravitational force between Sirius A and Sirius B\n",
    "    Taking the center of mass as origin\n",
    "    xA, yA: posistion of Sirius A \n",
    "    xB, yB: position of Sirius B\n",
    "    vxA, vyA: velocity of Sirius A\n",
    "    vxB, vyB: velocity of Sirius B\n",
    "    xC, yC: position of the third star\n",
    "    vxC, vyC: velocity of the third star\n",
    "    \"\"\"\n",
    "    xA, yA, vxA, vyA, xB, yB, vxB, vyB, xC, yC, vxC, vyC= state\n",
    "    unpack(system)\n",
    "    posA = Vector (xA, yA)\n",
    "    posB = Vector (xB, yB)\n",
    "    posC = Vector (xC, yC)\n",
    "    AB = posB-posA\n",
    "    BA = posA-posB\n",
    "    AC = posA - posC\n",
    "    BC = posB - posC\n",
    "    \n",
    "    forceA =AB.hat() * G * mA *mB/ AB.mag**2\n",
    "    forceB = BA.hat() * G *mA*mB / BA.mag **2\n",
    "    forceAC = AC.hat() * G * mA * mC / AC.mag **2\n",
    "    forceBC = BC.hat() * G * mB * mC / BC.mag **2\n",
    "    forceC = forceAC + forceBC\n",
    "    \n",
    "    return forceA, forceB, forceC\n",
    "    "
   ]
  },
  {
   "cell_type": "code",
   "execution_count": 63,
   "metadata": {},
   "outputs": [],
   "source": [
    "def slope_func(state, t, system):\n",
    "    xA, yA, vxA, vyA, xB, yB, vxB, vyB, xC, yC, vxC, vyC= state\n",
    "    unpack(system)\n",
    "    \n",
    "    forceA,forceB, forceC = universal_gravity(state, system)\n",
    "    accA = forceA / mA\n",
    "    accB = forceB / mB\n",
    "    accC = forceC/ mC\n",
    "    accAx = accA[0]\n",
    "    accAy = accA[1]\n",
    "    accBx = accB[0]\n",
    "    accBy = accB[1]\n",
    "    accCx = accC[0]\n",
    "    accCy = accC[1]    \n",
    "\n",
    "    \n",
    "    return vxA, vyA, accAx ,accAy, vxB, vyB, accBx, accBy, vxC, vyC, accCx, accCy\n",
    "    "
   ]
  },
  {
   "cell_type": "code",
   "execution_count": 64,
   "metadata": {},
   "outputs": [
    {
     "data": {
      "text/html": [
       "<div>\n",
       "<style scoped>\n",
       "    .dataframe tbody tr th:only-of-type {\n",
       "        vertical-align: middle;\n",
       "    }\n",
       "\n",
       "    .dataframe tbody tr th {\n",
       "        vertical-align: top;\n",
       "    }\n",
       "\n",
       "    .dataframe thead th {\n",
       "        text-align: right;\n",
       "    }\n",
       "</style>\n",
       "<table border=\"1\" class=\"dataframe\">\n",
       "  <thead>\n",
       "    <tr style=\"text-align: right;\">\n",
       "      <th></th>\n",
       "      <th>values</th>\n",
       "    </tr>\n",
       "  </thead>\n",
       "  <tbody>\n",
       "    <tr>\n",
       "      <th>sol</th>\n",
       "      <td>None</td>\n",
       "    </tr>\n",
       "    <tr>\n",
       "      <th>t_events</th>\n",
       "      <td>[]</td>\n",
       "    </tr>\n",
       "    <tr>\n",
       "      <th>nfev</th>\n",
       "      <td>608</td>\n",
       "    </tr>\n",
       "    <tr>\n",
       "      <th>njev</th>\n",
       "      <td>0</td>\n",
       "    </tr>\n",
       "    <tr>\n",
       "      <th>nlu</th>\n",
       "      <td>0</td>\n",
       "    </tr>\n",
       "    <tr>\n",
       "      <th>status</th>\n",
       "      <td>0</td>\n",
       "    </tr>\n",
       "    <tr>\n",
       "      <th>message</th>\n",
       "      <td>The solver successfully reached the end of the...</td>\n",
       "    </tr>\n",
       "    <tr>\n",
       "      <th>success</th>\n",
       "      <td>True</td>\n",
       "    </tr>\n",
       "  </tbody>\n",
       "</table>\n",
       "</div>"
      ],
      "text/plain": [
       "sol                                                      None\n",
       "t_events                                                   []\n",
       "nfev                                                      608\n",
       "njev                                                        0\n",
       "nlu                                                         0\n",
       "status                                                      0\n",
       "message     The solver successfully reached the end of the...\n",
       "success                                                  True\n",
       "dtype: object"
      ]
     },
     "execution_count": 64,
     "metadata": {},
     "output_type": "execute_result"
    }
   ],
   "source": [
    "results, details = run_ode_solver(system, slope_func)\n",
    "details"
   ]
  },
  {
   "cell_type": "code",
   "execution_count": 65,
   "metadata": {},
   "outputs": [
    {
     "data": {
      "text/html": [
       "11258352000.0 second"
      ],
      "text/latex": [
       "$11258352000.0 second$"
      ],
      "text/plain": [
       "<Quantity(11258352000.0, 'second')>"
      ]
     },
     "execution_count": 65,
     "metadata": {},
     "output_type": "execute_result"
    }
   ],
   "source": [
    "t_final = get_last_label(results) * s"
   ]
  },
  {
   "cell_type": "code",
   "execution_count": 66,
   "metadata": {},
   "outputs": [
    {
     "data": {
      "text/html": [
       "356.76326677148813 year"
      ],
      "text/latex": [
       "$356.76326677148813 year$"
      ],
      "text/plain": [
       "<Quantity(356.76326677148813, 'year')>"
      ]
     },
     "execution_count": 66,
     "metadata": {},
     "output_type": "execute_result"
    }
   ],
   "source": [
    "t_final.to(UNITS.years)"
   ]
  },
  {
   "cell_type": "code",
   "execution_count": 67,
   "metadata": {},
   "outputs": [],
   "source": [
    "ts = linspace(t_0, t_final, 500)\n",
    "results, details = run_ode_solver(system, slope_func, t_eval=ts)\n",
    "results;"
   ]
  },
  {
   "cell_type": "code",
   "execution_count": 68,
   "metadata": {},
   "outputs": [],
   "source": [
    "xa = results.xA;\n",
    "ya = results.yA;\n",
    "xb = results.xB;\n",
    "yb = results.yB;\n",
    "xc = results.xC;\n",
    "yc = results.yC;"
   ]
  },
  {
   "cell_type": "code",
   "execution_count": 69,
   "metadata": {},
   "outputs": [
    {
     "data": {
      "image/png": "[encoded data removed]",
      "text/plain": [
       "<Figure size 432x288 with 1 Axes>"
      ]
     },
     "metadata": {},
     "output_type": "display_data"
    }
   ],
   "source": [
    "plot(xa, ya, 'b', label = 'Sirius A')\n",
    "plot(xb,yb, 'g', label = 'Sirius B')\n",
    "plot(xc,yc,'r' , label = 'Third star')\n",
    "\n",
    "decorate(title = \"Position and Orbit of Sirius A and B \",\n",
    "        xlabel = 'Distance from the center of Mass (km)',\n",
    "        ylabel = 'Distance from the Center of Mass (km)')"
   ]
  },
  {
   "cell_type": "markdown",
   "metadata": {},
   "source": [
    "Only about 1/4 of the orbit of the third star is drawn, which is due to the step size limit of ode solver. We can see that the original 2 stars are almost at the original point which verifies the idea of this trinary system is like star-planet. Also, different initial velocities can significantly affect the trace: the star can either be drawn closer to the binary system or ejected away."
   ]
  },
  {
   "cell_type": "markdown",
   "metadata": {},
   "source": [
    "## Moving Around the 2 stars:\n",
    "\n",
    "If we put the three of them near and the third star has a relatively high velocity so it will not move in a circular orbit at first. The three stars will mess around until the third and lightest one in the system. To clearer illustrate the outcomes, we will draw different traces from different velocities."
   ]
  },
  {
   "cell_type": "markdown",
   "metadata": {},
   "source": [
    "## With a pretty ideal intial speed (system generally stable):"
   ]
  },
  {
   "cell_type": "code",
   "execution_count": 248,
   "metadata": {},
   "outputs": [
    {
     "data": {
      "text/html": [
       "<div>\n",
       "<style scoped>\n",
       "    .dataframe tbody tr th:only-of-type {\n",
       "        vertical-align: middle;\n",
       "    }\n",
       "\n",
       "    .dataframe tbody tr th {\n",
       "        vertical-align: top;\n",
       "    }\n",
       "\n",
       "    .dataframe thead th {\n",
       "        text-align: right;\n",
       "    }\n",
       "</style>\n",
       "<table border=\"1\" class=\"dataframe\">\n",
       "  <thead>\n",
       "    <tr style=\"text-align: right;\">\n",
       "      <th></th>\n",
       "      <th>values</th>\n",
       "    </tr>\n",
       "  </thead>\n",
       "  <tbody>\n",
       "    <tr>\n",
       "      <th>xA</th>\n",
       "      <td>-997333333333.3334 meter</td>\n",
       "    </tr>\n",
       "    <tr>\n",
       "      <th>yA</th>\n",
       "      <td>0 meter</td>\n",
       "    </tr>\n",
       "    <tr>\n",
       "      <th>vxA</th>\n",
       "      <td>0.0 meter / second</td>\n",
       "    </tr>\n",
       "    <tr>\n",
       "      <th>vyA</th>\n",
       "      <td>3896.219537683942 meter / second</td>\n",
       "    </tr>\n",
       "    <tr>\n",
       "      <th>xB</th>\n",
       "      <td>1994666666666.6667 meter</td>\n",
       "    </tr>\n",
       "    <tr>\n",
       "      <th>yB</th>\n",
       "      <td>0 meter</td>\n",
       "    </tr>\n",
       "    <tr>\n",
       "      <th>vxB</th>\n",
       "      <td>0.0 meter / second</td>\n",
       "    </tr>\n",
       "    <tr>\n",
       "      <th>vyB</th>\n",
       "      <td>-7792.439075367884 meter / second</td>\n",
       "    </tr>\n",
       "    <tr>\n",
       "      <th>xC</th>\n",
       "      <td>0 meter</td>\n",
       "    </tr>\n",
       "    <tr>\n",
       "      <th>yC</th>\n",
       "      <td>0 meter</td>\n",
       "    </tr>\n",
       "    <tr>\n",
       "      <th>vxC</th>\n",
       "      <td>0.0 meter / second</td>\n",
       "    </tr>\n",
       "    <tr>\n",
       "      <th>vyC</th>\n",
       "      <td>-15000.0 meter / second</td>\n",
       "    </tr>\n",
       "  </tbody>\n",
       "</table>\n",
       "</div>"
      ],
      "text/plain": [
       "xA              -997333333333.3334 meter\n",
       "yA                               0 meter\n",
       "vxA                   0.0 meter / second\n",
       "vyA     3896.219537683942 meter / second\n",
       "xB              1994666666666.6667 meter\n",
       "yB                               0 meter\n",
       "vxB                   0.0 meter / second\n",
       "vyB    -7792.439075367884 meter / second\n",
       "xC                               0 meter\n",
       "yC                               0 meter\n",
       "vxC                   0.0 meter / second\n",
       "vyC              -15000.0 meter / second\n",
       "dtype: object"
      ]
     },
     "execution_count": 248,
     "metadata": {},
     "output_type": "execute_result"
    }
   ],
   "source": [
    "init = State (  xA = -r_0 *1/3,\n",
    "                 yA = 0 *m,\n",
    "                 vxA = 0 *m/s,\n",
    "                 vyA = 2*pi*r_0/(3*T),\n",
    "                 xB = r_0*2/3,\n",
    "                 yB = 0 * m,\n",
    "                 vxB = 0 *m/s,\n",
    "                 vyB = -4*pi*r_0 /(3*T),\n",
    "                 xC = 0 * m ,\n",
    "                 yC = 0*m,\n",
    "                 vxC = 0 *m / s,\n",
    "                 vyC = -15000 * m/s\n",
    "    )"
   ]
  },
  {
   "cell_type": "code",
   "execution_count": 249,
   "metadata": {},
   "outputs": [
    {
     "data": {
      "text/html": [
       "<div>\n",
       "<style scoped>\n",
       "    .dataframe tbody tr th:only-of-type {\n",
       "        vertical-align: middle;\n",
       "    }\n",
       "\n",
       "    .dataframe tbody tr th {\n",
       "        vertical-align: top;\n",
       "    }\n",
       "\n",
       "    .dataframe thead th {\n",
       "        text-align: right;\n",
       "    }\n",
       "</style>\n",
       "<table border=\"1\" class=\"dataframe\">\n",
       "  <thead>\n",
       "    <tr style=\"text-align: right;\">\n",
       "      <th></th>\n",
       "      <th>values</th>\n",
       "    </tr>\n",
       "  </thead>\n",
       "  <tbody>\n",
       "    <tr>\n",
       "      <th>mC</th>\n",
       "      <td>4.7736e+28 kilogram</td>\n",
       "    </tr>\n",
       "    <tr>\n",
       "      <th>init</th>\n",
       "      <td>xA              -997333333333.3334 meter\n",
       "yA   ...</td>\n",
       "    </tr>\n",
       "    <tr>\n",
       "      <th>G</th>\n",
       "      <td>6.674e-11 meter ** 2 * newton / kilogram ** 2</td>\n",
       "    </tr>\n",
       "    <tr>\n",
       "      <th>mA</th>\n",
       "      <td>3.978e+30 kilogram</td>\n",
       "    </tr>\n",
       "    <tr>\n",
       "      <th>mB</th>\n",
       "      <td>1.989e+30 kilogram</td>\n",
       "    </tr>\n",
       "    <tr>\n",
       "      <th>rA</th>\n",
       "      <td>11893050000.0 meter</td>\n",
       "    </tr>\n",
       "    <tr>\n",
       "      <th>rB</th>\n",
       "      <td>55640000.0 meter</td>\n",
       "    </tr>\n",
       "    <tr>\n",
       "      <th>t_0</th>\n",
       "      <td>0 second</td>\n",
       "    </tr>\n",
       "    <tr>\n",
       "      <th>t_end</th>\n",
       "      <td>3216672000 second</td>\n",
       "    </tr>\n",
       "  </tbody>\n",
       "</table>\n",
       "</div>"
      ],
      "text/plain": [
       "mC                                     4.7736e+28 kilogram\n",
       "init     xA              -997333333333.3334 meter\n",
       "yA   ...\n",
       "G            6.674e-11 meter ** 2 * newton / kilogram ** 2\n",
       "mA                                      3.978e+30 kilogram\n",
       "mB                                      1.989e+30 kilogram\n",
       "rA                                     11893050000.0 meter\n",
       "rB                                        55640000.0 meter\n",
       "t_0                                               0 second\n",
       "t_end                                    3216672000 second\n",
       "dtype: object"
      ]
     },
     "execution_count": 249,
     "metadata": {},
     "output_type": "execute_result"
    }
   ],
   "source": [
    "TC = 5 * 365 * 24 * 60 *60 *s\n",
    "\n",
    "system = System(mC = 0.024*m_sun,\n",
    "                 init = init,\n",
    "                 G = 6.674e-11 * N / kg**2 * m**2,\n",
    "                 mA = 2*m_sun, \n",
    "                 mB = m_sun,\n",
    "                 rA = 1.71 * r_sun,\n",
    "                 rB= 0.008*r_sun,\n",
    "                 t_0 = 0 *s,\n",
    "                 t_end = T *2\n",
    "                 \n",
    "                )"
   ]
  },
  {
   "cell_type": "code",
   "execution_count": 250,
   "metadata": {},
   "outputs": [],
   "source": [
    "def universal_gravity(state, system):    \n",
    "    \"\"\"\"\n",
    "    Calculating gravitational force between Sirius A and Sirius B\n",
    "    Taking the center of mass as origin\n",
    "    xA, yA: posistion of Sirius A \n",
    "    xB, yB: position of Sirius B\n",
    "    vxA, vyA: velocity of Sirius A\n",
    "    vxB, vyB: velocity of Sirius B\n",
    "    \"\"\"\n",
    "    xA, yA, vxA, vyA, xB, yB, vxB, vyB, xC, yC, vxC, vyC= state\n",
    "    unpack(system)\n",
    "    posA = Vector (xA, yA)\n",
    "    posB = Vector (xB, yB)\n",
    "    posC = Vector (xC, yC)\n",
    "    AB = posB-posA\n",
    "    BA = posA-posB\n",
    "    AC = posA - posC\n",
    "    BC = posB - posC\n",
    "    \n",
    "    \n",
    "    forceAC = AC.hat() * G * mA * mC / AC.mag **2\n",
    "    forceBC = BC.hat() * G * mB * mC / BC.mag **2\n",
    "    forceA =AB.hat() * G * mA *mB/ AB.mag**2 - forceAC\n",
    "    forceB = BA.hat() * G *mA*mB / BA.mag **2 - forceBC\n",
    "    \n",
    "    forceC = forceAC + forceBC\n",
    "    \n",
    "    return forceA, forceB, forceC\n",
    "    "
   ]
  },
  {
   "cell_type": "code",
   "execution_count": 251,
   "metadata": {},
   "outputs": [],
   "source": [
    "def slope_func(state, t, system):\n",
    "    xA, yA, vxA, vyA, xB, yB, vxB, vyB, xC, yC, vxC, vyC= state\n",
    "    unpack(system)\n",
    "    \n",
    "    forceA,forceB, forceC = universal_gravity(state, system)\n",
    "    accA = forceA / mA\n",
    "    accB = forceB / mB\n",
    "    accC = forceC/ mC\n",
    "    accAx = accA[0]\n",
    "    accAy = accA[1]\n",
    "    accBx = accB[0]\n",
    "    accBy = accB[1]\n",
    "    accCx = accC[0]\n",
    "    accCy = accC[1]    \n",
    "\n",
    "    \n",
    "    return vxA, vyA, accAx ,accAy, vxB, vyB, accBx, accBy, vxC, vyC, accCx, accCy\n",
    "    "
   ]
  },
  {
   "cell_type": "code",
   "execution_count": 252,
   "metadata": {},
   "outputs": [
    {
     "data": {
      "text/html": [
       "<div>\n",
       "<style scoped>\n",
       "    .dataframe tbody tr th:only-of-type {\n",
       "        vertical-align: middle;\n",
       "    }\n",
       "\n",
       "    .dataframe tbody tr th {\n",
       "        vertical-align: top;\n",
       "    }\n",
       "\n",
       "    .dataframe thead th {\n",
       "        text-align: right;\n",
       "    }\n",
       "</style>\n",
       "<table border=\"1\" class=\"dataframe\">\n",
       "  <thead>\n",
       "    <tr style=\"text-align: right;\">\n",
       "      <th></th>\n",
       "      <th>values</th>\n",
       "    </tr>\n",
       "  </thead>\n",
       "  <tbody>\n",
       "    <tr>\n",
       "      <th>sol</th>\n",
       "      <td>None</td>\n",
       "    </tr>\n",
       "    <tr>\n",
       "      <th>t_events</th>\n",
       "      <td>[]</td>\n",
       "    </tr>\n",
       "    <tr>\n",
       "      <th>nfev</th>\n",
       "      <td>518</td>\n",
       "    </tr>\n",
       "    <tr>\n",
       "      <th>njev</th>\n",
       "      <td>0</td>\n",
       "    </tr>\n",
       "    <tr>\n",
       "      <th>nlu</th>\n",
       "      <td>0</td>\n",
       "    </tr>\n",
       "    <tr>\n",
       "      <th>status</th>\n",
       "      <td>0</td>\n",
       "    </tr>\n",
       "    <tr>\n",
       "      <th>message</th>\n",
       "      <td>The solver successfully reached the end of the...</td>\n",
       "    </tr>\n",
       "    <tr>\n",
       "      <th>success</th>\n",
       "      <td>True</td>\n",
       "    </tr>\n",
       "  </tbody>\n",
       "</table>\n",
       "</div>"
      ],
      "text/plain": [
       "sol                                                      None\n",
       "t_events                                                   []\n",
       "nfev                                                      518\n",
       "njev                                                        0\n",
       "nlu                                                         0\n",
       "status                                                      0\n",
       "message     The solver successfully reached the end of the...\n",
       "success                                                  True\n",
       "dtype: object"
      ]
     },
     "execution_count": 252,
     "metadata": {},
     "output_type": "execute_result"
    }
   ],
   "source": [
    "results, details = run_ode_solver(system, slope_func)\n",
    "details"
   ]
  },
  {
   "cell_type": "code",
   "execution_count": 253,
   "metadata": {},
   "outputs": [
    {
     "data": {
      "text/html": [
       "3216672000.0 second"
      ],
      "text/latex": [
       "$3216672000.0 second$"
      ],
      "text/plain": [
       "<Quantity(3216672000.0, 'second')>"
      ]
     },
     "execution_count": 253,
     "metadata": {},
     "output_type": "execute_result"
    }
   ],
   "source": [
    "t_final = get_last_label(results) * s"
   ]
  },
  {
   "cell_type": "code",
   "execution_count": 254,
   "metadata": {},
   "outputs": [
    {
     "data": {
      "text/html": [
       "101.9323619347109 year"
      ],
      "text/latex": [
       "$101.9323619347109 year$"
      ],
      "text/plain": [
       "<Quantity(101.9323619347109, 'year')>"
      ]
     },
     "execution_count": 254,
     "metadata": {},
     "output_type": "execute_result"
    }
   ],
   "source": [
    "t_final.to(UNITS.years)"
   ]
  },
  {
   "cell_type": "code",
   "execution_count": 255,
   "metadata": {},
   "outputs": [],
   "source": [
    "ts = linspace(t_0, t_final, 1000)\n",
    "results, details = run_ode_solver(system, slope_func, t_eval=ts)\n"
   ]
  },
  {
   "cell_type": "code",
   "execution_count": 256,
   "metadata": {},
   "outputs": [],
   "source": [
    "xa = results.xA;\n",
    "ya = results.yA;\n",
    "xb = results.xB;\n",
    "yb = results.yB;\n",
    "xc = results.xC;\n",
    "yc = results.yC;"
   ]
  },
  {
   "cell_type": "code",
   "execution_count": 257,
   "metadata": {},
   "outputs": [
    {
     "data": {
      "image/png": "[encoded data removed]",
      "text/plain": [
       "<Figure size 432x288 with 1 Axes>"
      ]
     },
     "metadata": {},
     "output_type": "display_data"
    }
   ],
   "source": [
    "plot(xa, ya, 'b', label = 'Sirius A')\n",
    "plot(xb,yb, 'g', label = 'Sirius B')\n",
    "plot(xc,yc,'r' , label = 'Third star')\n",
    "\n",
    "decorate(title = \"Position and Orbit of Sirius A and B \",\n",
    "        xlabel = 'Distance from the center of Mass (km)',\n",
    "        ylabel = 'Distance from the Center of Mass (km)')"
   ]
  },
  {
   "cell_type": "markdown",
   "metadata": {},
   "source": [
    "#### We can see that the orbits of Sirius A and B are slightly affected and the third is switching the center and moving around them.\n",
    "\n",
    "## With a small initial speed:"
   ]
  },
  {
   "cell_type": "code",
   "execution_count": 258,
   "metadata": {},
   "outputs": [
    {
     "data": {
      "text/html": [
       "<div>\n",
       "<style scoped>\n",
       "    .dataframe tbody tr th:only-of-type {\n",
       "        vertical-align: middle;\n",
       "    }\n",
       "\n",
       "    .dataframe tbody tr th {\n",
       "        vertical-align: top;\n",
       "    }\n",
       "\n",
       "    .dataframe thead th {\n",
       "        text-align: right;\n",
       "    }\n",
       "</style>\n",
       "<table border=\"1\" class=\"dataframe\">\n",
       "  <thead>\n",
       "    <tr style=\"text-align: right;\">\n",
       "      <th></th>\n",
       "      <th>values</th>\n",
       "    </tr>\n",
       "  </thead>\n",
       "  <tbody>\n",
       "    <tr>\n",
       "      <th>xA</th>\n",
       "      <td>-997333333333.3334 meter</td>\n",
       "    </tr>\n",
       "    <tr>\n",
       "      <th>yA</th>\n",
       "      <td>0 meter</td>\n",
       "    </tr>\n",
       "    <tr>\n",
       "      <th>vxA</th>\n",
       "      <td>0.0 meter / second</td>\n",
       "    </tr>\n",
       "    <tr>\n",
       "      <th>vyA</th>\n",
       "      <td>3896.219537683942 meter / second</td>\n",
       "    </tr>\n",
       "    <tr>\n",
       "      <th>xB</th>\n",
       "      <td>1994666666666.6667 meter</td>\n",
       "    </tr>\n",
       "    <tr>\n",
       "      <th>yB</th>\n",
       "      <td>0 meter</td>\n",
       "    </tr>\n",
       "    <tr>\n",
       "      <th>vxB</th>\n",
       "      <td>0.0 meter / second</td>\n",
       "    </tr>\n",
       "    <tr>\n",
       "      <th>vyB</th>\n",
       "      <td>-7792.439075367884 meter / second</td>\n",
       "    </tr>\n",
       "    <tr>\n",
       "      <th>xC</th>\n",
       "      <td>0 meter</td>\n",
       "    </tr>\n",
       "    <tr>\n",
       "      <th>yC</th>\n",
       "      <td>0 meter</td>\n",
       "    </tr>\n",
       "    <tr>\n",
       "      <th>vxC</th>\n",
       "      <td>0.0 meter / second</td>\n",
       "    </tr>\n",
       "    <tr>\n",
       "      <th>vyC</th>\n",
       "      <td>-20000.0 meter / second</td>\n",
       "    </tr>\n",
       "  </tbody>\n",
       "</table>\n",
       "</div>"
      ],
      "text/plain": [
       "xA              -997333333333.3334 meter\n",
       "yA                               0 meter\n",
       "vxA                   0.0 meter / second\n",
       "vyA     3896.219537683942 meter / second\n",
       "xB              1994666666666.6667 meter\n",
       "yB                               0 meter\n",
       "vxB                   0.0 meter / second\n",
       "vyB    -7792.439075367884 meter / second\n",
       "xC                               0 meter\n",
       "yC                               0 meter\n",
       "vxC                   0.0 meter / second\n",
       "vyC              -20000.0 meter / second\n",
       "dtype: object"
      ]
     },
     "execution_count": 258,
     "metadata": {},
     "output_type": "execute_result"
    }
   ],
   "source": [
    "init = State (  xA = -r_0 *1/3,\n",
    "                 yA = 0 *m,\n",
    "                 vxA = 0 *m/s,\n",
    "                 vyA = 2*pi*r_0/(3*T),\n",
    "                 xB = r_0*2/3,\n",
    "                 yB = 0 * m,\n",
    "                 vxB = 0 *m/s,\n",
    "                 vyB = -4*pi*r_0 /(3*T),\n",
    "                 xC = 0 * m ,\n",
    "                 yC = 0*m,\n",
    "                 vxC = 0 *m / s,\n",
    "                 vyC = -20000* m/s\n",
    "    )"
   ]
  },
  {
   "cell_type": "code",
   "execution_count": 204,
   "metadata": {},
   "outputs": [
    {
     "data": {
      "text/html": [
       "<div>\n",
       "<style scoped>\n",
       "    .dataframe tbody tr th:only-of-type {\n",
       "        vertical-align: middle;\n",
       "    }\n",
       "\n",
       "    .dataframe tbody tr th {\n",
       "        vertical-align: top;\n",
       "    }\n",
       "\n",
       "    .dataframe thead th {\n",
       "        text-align: right;\n",
       "    }\n",
       "</style>\n",
       "<table border=\"1\" class=\"dataframe\">\n",
       "  <thead>\n",
       "    <tr style=\"text-align: right;\">\n",
       "      <th></th>\n",
       "      <th>values</th>\n",
       "    </tr>\n",
       "  </thead>\n",
       "  <tbody>\n",
       "    <tr>\n",
       "      <th>mC</th>\n",
       "      <td>4.7736e+28 kilogram</td>\n",
       "    </tr>\n",
       "    <tr>\n",
       "      <th>init</th>\n",
       "      <td>xA              -997333333333.3334 meter\n",
       "yA   ...</td>\n",
       "    </tr>\n",
       "    <tr>\n",
       "      <th>G</th>\n",
       "      <td>6.674e-11 meter ** 2 * newton / kilogram ** 2</td>\n",
       "    </tr>\n",
       "    <tr>\n",
       "      <th>mA</th>\n",
       "      <td>3.978e+30 kilogram</td>\n",
       "    </tr>\n",
       "    <tr>\n",
       "      <th>mB</th>\n",
       "      <td>1.989e+30 kilogram</td>\n",
       "    </tr>\n",
       "    <tr>\n",
       "      <th>rA</th>\n",
       "      <td>11893050000.0 meter</td>\n",
       "    </tr>\n",
       "    <tr>\n",
       "      <th>rB</th>\n",
       "      <td>55640000.0 meter</td>\n",
       "    </tr>\n",
       "    <tr>\n",
       "      <th>t_0</th>\n",
       "      <td>0 second</td>\n",
       "    </tr>\n",
       "    <tr>\n",
       "      <th>t_end</th>\n",
       "      <td>6433344000 second</td>\n",
       "    </tr>\n",
       "  </tbody>\n",
       "</table>\n",
       "</div>"
      ],
      "text/plain": [
       "mC                                     4.7736e+28 kilogram\n",
       "init     xA              -997333333333.3334 meter\n",
       "yA   ...\n",
       "G            6.674e-11 meter ** 2 * newton / kilogram ** 2\n",
       "mA                                      3.978e+30 kilogram\n",
       "mB                                      1.989e+30 kilogram\n",
       "rA                                     11893050000.0 meter\n",
       "rB                                        55640000.0 meter\n",
       "t_0                                               0 second\n",
       "t_end                                    6433344000 second\n",
       "dtype: object"
      ]
     },
     "execution_count": 204,
     "metadata": {},
     "output_type": "execute_result"
    }
   ],
   "source": [
    "TC = 5 * 365 * 24 * 60 *60 *s\n",
    "\n",
    "system = System(mC = 0.024*m_sun,\n",
    "                 init = init,\n",
    "                 G = 6.674e-11 * N / kg**2 * m**2,\n",
    "                 mA = 2*m_sun, \n",
    "                 mB = m_sun,\n",
    "                 rA = 1.71 * r_sun,\n",
    "                 rB= 0.008*r_sun,\n",
    "                 t_0 = 0 *s,\n",
    "                 t_end = T * 4\n",
    "                 \n",
    "                )"
   ]
  },
  {
   "cell_type": "code",
   "execution_count": 205,
   "metadata": {},
   "outputs": [],
   "source": [
    "def universal_gravity(state, system):    \n",
    "    \"\"\"\"\n",
    "    Calculating gravitational force between Sirius A and Sirius B\n",
    "    Taking the center of mass as origin\n",
    "    xA, yA: posistion of Sirius A \n",
    "    xB, yB: position of Sirius B\n",
    "    vxA, vyA: velocity of Sirius A\n",
    "    vxB, vyB: velocity of Sirius B\n",
    "    \"\"\"\n",
    "    xA, yA, vxA, vyA, xB, yB, vxB, vyB, xC, yC, vxC, vyC= state\n",
    "    unpack(system)\n",
    "    posA = Vector (xA, yA)\n",
    "    posB = Vector (xB, yB)\n",
    "    posC = Vector (xC, yC)\n",
    "    AB = posB-posA\n",
    "    BA = posA-posB\n",
    "    AC = posA - posC\n",
    "    BC = posB - posC\n",
    "    \n",
    "    \n",
    "    forceAC = AC.hat() * G * mA * mC / AC.mag **2\n",
    "    forceBC = BC.hat() * G * mB * mC / BC.mag **2\n",
    "    forceA =AB.hat() * G * mA *mB/ AB.mag**2 - forceAC\n",
    "    forceB = BA.hat() * G *mA*mB / BA.mag **2 - forceBC\n",
    "    \n",
    "    forceC = forceAC + forceBC\n",
    "    \n",
    "    return forceA, forceB, forceC\n",
    "    "
   ]
  },
  {
   "cell_type": "code",
   "execution_count": 206,
   "metadata": {},
   "outputs": [],
   "source": [
    "def slope_func(state, t, system):\n",
    "    xA, yA, vxA, vyA, xB, yB, vxB, vyB, xC, yC, vxC, vyC= state\n",
    "    unpack(system)\n",
    "    \n",
    "    forceA,forceB, forceC = universal_gravity(state, system)\n",
    "    accA = forceA / mA\n",
    "    accB = forceB / mB\n",
    "    accC = forceC/ mC\n",
    "    accAx = accA[0]\n",
    "    accAy = accA[1]\n",
    "    accBx = accB[0]\n",
    "    accBy = accB[1]\n",
    "    accCx = accC[0]\n",
    "    accCy = accC[1]    \n",
    "\n",
    "    \n",
    "    return vxA, vyA, accAx ,accAy, vxB, vyB, accBx, accBy, vxC, vyC, accCx, accCy\n",
    "    "
   ]
  },
  {
   "cell_type": "code",
   "execution_count": 207,
   "metadata": {},
   "outputs": [
    {
     "data": {
      "text/html": [
       "<div>\n",
       "<style scoped>\n",
       "    .dataframe tbody tr th:only-of-type {\n",
       "        vertical-align: middle;\n",
       "    }\n",
       "\n",
       "    .dataframe tbody tr th {\n",
       "        vertical-align: top;\n",
       "    }\n",
       "\n",
       "    .dataframe thead th {\n",
       "        text-align: right;\n",
       "    }\n",
       "</style>\n",
       "<table border=\"1\" class=\"dataframe\">\n",
       "  <thead>\n",
       "    <tr style=\"text-align: right;\">\n",
       "      <th></th>\n",
       "      <th>values</th>\n",
       "    </tr>\n",
       "  </thead>\n",
       "  <tbody>\n",
       "    <tr>\n",
       "      <th>sol</th>\n",
       "      <td>None</td>\n",
       "    </tr>\n",
       "    <tr>\n",
       "      <th>t_events</th>\n",
       "      <td>[]</td>\n",
       "    </tr>\n",
       "    <tr>\n",
       "      <th>nfev</th>\n",
       "      <td>884</td>\n",
       "    </tr>\n",
       "    <tr>\n",
       "      <th>njev</th>\n",
       "      <td>0</td>\n",
       "    </tr>\n",
       "    <tr>\n",
       "      <th>nlu</th>\n",
       "      <td>0</td>\n",
       "    </tr>\n",
       "    <tr>\n",
       "      <th>status</th>\n",
       "      <td>0</td>\n",
       "    </tr>\n",
       "    <tr>\n",
       "      <th>message</th>\n",
       "      <td>The solver successfully reached the end of the...</td>\n",
       "    </tr>\n",
       "    <tr>\n",
       "      <th>success</th>\n",
       "      <td>True</td>\n",
       "    </tr>\n",
       "  </tbody>\n",
       "</table>\n",
       "</div>"
      ],
      "text/plain": [
       "sol                                                      None\n",
       "t_events                                                   []\n",
       "nfev                                                      884\n",
       "njev                                                        0\n",
       "nlu                                                         0\n",
       "status                                                      0\n",
       "message     The solver successfully reached the end of the...\n",
       "success                                                  True\n",
       "dtype: object"
      ]
     },
     "execution_count": 207,
     "metadata": {},
     "output_type": "execute_result"
    }
   ],
   "source": [
    "results, details = run_ode_solver(system, slope_func)\n",
    "details"
   ]
  },
  {
   "cell_type": "code",
   "execution_count": 208,
   "metadata": {},
   "outputs": [
    {
     "data": {
      "text/html": [
       "203.8647238694218 year"
      ],
      "text/latex": [
       "$203.8647238694218 year$"
      ],
      "text/plain": [
       "<Quantity(203.8647238694218, 'year')>"
      ]
     },
     "execution_count": 208,
     "metadata": {},
     "output_type": "execute_result"
    }
   ],
   "source": [
    "t_final = get_last_label(results) * s\n",
    "t_final.to(UNITS.years)"
   ]
  },
  {
   "cell_type": "code",
   "execution_count": 209,
   "metadata": {},
   "outputs": [],
   "source": [
    "ts = linspace(t_0, t_final, 1000)\n",
    "results, details = run_ode_solver(system, slope_func, t_eval=ts)\n"
   ]
  },
  {
   "cell_type": "code",
   "execution_count": 210,
   "metadata": {},
   "outputs": [],
   "source": [
    "xa = results.xA;\n",
    "ya = results.yA;\n",
    "xb = results.xB;\n",
    "yb = results.yB;\n",
    "xc = results.xC;\n",
    "yc = results.yC;"
   ]
  },
  {
   "cell_type": "code",
   "execution_count": 211,
   "metadata": {},
   "outputs": [
    {
     "data": {
      "text/plain": [
       "[<matplotlib.lines.Line2D at 0x21d715442e8>]"
      ]
     },
     "execution_count": 211,
     "metadata": {},
     "output_type": "execute_result"
    },
    {
     "data": {
      "image/png": "[encoded data removed]",
      "text/plain": [
       "<Figure size 432x288 with 1 Axes>"
      ]
     },
     "metadata": {},
     "output_type": "display_data"
    }
   ],
   "source": [
    "plot(xa, ya, 'b', label = 'Sirius A')\n",
    "plot(xb,yb, 'g', label = 'Sirius B')\n",
    "plot(xc,yc,'r' , label = 'Third star')\n",
    "\n",
    "decorate(title = \"Position and Orbit of Sirius A and B \",\n",
    "        xlabel = 'Distance from the center of Mass (km)',\n",
    "        ylabel = 'Distance from the Center of Mass (km)')"
   ]
  },
  {
   "cell_type": "markdown",
   "metadata": {},
   "source": [
    "#### The third star is ejected pretty quickly and the original system is not affected. This is because if the initial velocity is too high and the gravitational force is not enough to serve as the centripetal force it needed to keep the circular motion, the star would escape, and because the kinetic energy is too high and when it reaches the orbit with fit radius and velocity, the gravitational force is already too small to keep it in an orbit and therefore the third will be in a constant speed until it is captured by another star that has a strong enough gravitational force to hold it in the orbit.\n",
    "\n",
    "## With a relatively low speed:"
   ]
  },
  {
   "cell_type": "code",
   "execution_count": 259,
   "metadata": {},
   "outputs": [
    {
     "data": {
      "text/html": [
       "<div>\n",
       "<style scoped>\n",
       "    .dataframe tbody tr th:only-of-type {\n",
       "        vertical-align: middle;\n",
       "    }\n",
       "\n",
       "    .dataframe tbody tr th {\n",
       "        vertical-align: top;\n",
       "    }\n",
       "\n",
       "    .dataframe thead th {\n",
       "        text-align: right;\n",
       "    }\n",
       "</style>\n",
       "<table border=\"1\" class=\"dataframe\">\n",
       "  <thead>\n",
       "    <tr style=\"text-align: right;\">\n",
       "      <th></th>\n",
       "      <th>values</th>\n",
       "    </tr>\n",
       "  </thead>\n",
       "  <tbody>\n",
       "    <tr>\n",
       "      <th>xA</th>\n",
       "      <td>-997333333333.3334 meter</td>\n",
       "    </tr>\n",
       "    <tr>\n",
       "      <th>yA</th>\n",
       "      <td>0 meter</td>\n",
       "    </tr>\n",
       "    <tr>\n",
       "      <th>vxA</th>\n",
       "      <td>0.0 meter / second</td>\n",
       "    </tr>\n",
       "    <tr>\n",
       "      <th>vyA</th>\n",
       "      <td>3896.219537683942 meter / second</td>\n",
       "    </tr>\n",
       "    <tr>\n",
       "      <th>xB</th>\n",
       "      <td>1994666666666.6667 meter</td>\n",
       "    </tr>\n",
       "    <tr>\n",
       "      <th>yB</th>\n",
       "      <td>0 meter</td>\n",
       "    </tr>\n",
       "    <tr>\n",
       "      <th>vxB</th>\n",
       "      <td>0.0 meter / second</td>\n",
       "    </tr>\n",
       "    <tr>\n",
       "      <th>vyB</th>\n",
       "      <td>-7792.439075367884 meter / second</td>\n",
       "    </tr>\n",
       "    <tr>\n",
       "      <th>xC</th>\n",
       "      <td>0 meter</td>\n",
       "    </tr>\n",
       "    <tr>\n",
       "      <th>yC</th>\n",
       "      <td>0 meter</td>\n",
       "    </tr>\n",
       "    <tr>\n",
       "      <th>vxC</th>\n",
       "      <td>0.0 meter / second</td>\n",
       "    </tr>\n",
       "    <tr>\n",
       "      <th>vyC</th>\n",
       "      <td>-1000.0 meter / second</td>\n",
       "    </tr>\n",
       "  </tbody>\n",
       "</table>\n",
       "</div>"
      ],
      "text/plain": [
       "xA              -997333333333.3334 meter\n",
       "yA                               0 meter\n",
       "vxA                   0.0 meter / second\n",
       "vyA     3896.219537683942 meter / second\n",
       "xB              1994666666666.6667 meter\n",
       "yB                               0 meter\n",
       "vxB                   0.0 meter / second\n",
       "vyB    -7792.439075367884 meter / second\n",
       "xC                               0 meter\n",
       "yC                               0 meter\n",
       "vxC                   0.0 meter / second\n",
       "vyC               -1000.0 meter / second\n",
       "dtype: object"
      ]
     },
     "execution_count": 259,
     "metadata": {},
     "output_type": "execute_result"
    }
   ],
   "source": [
    "init = State (  xA = -r_0 *1/3,\n",
    "                 yA = 0 *m,\n",
    "                 vxA = 0 *m/s,\n",
    "                 vyA = 2*pi*r_0/(3*T),\n",
    "                 xB = r_0*2/3,\n",
    "                 yB = 0 * m,\n",
    "                 vxB = 0 *m/s,\n",
    "                 vyB = -4*pi*r_0 /(3*T),\n",
    "                 xC = 0 * m ,\n",
    "                 yC = 0*m,\n",
    "                 vxC = 0 *m / s,\n",
    "                 vyC = -1000* m/s\n",
    "    )"
   ]
  },
  {
   "cell_type": "code",
   "execution_count": 260,
   "metadata": {},
   "outputs": [
    {
     "data": {
      "text/html": [
       "<div>\n",
       "<style scoped>\n",
       "    .dataframe tbody tr th:only-of-type {\n",
       "        vertical-align: middle;\n",
       "    }\n",
       "\n",
       "    .dataframe tbody tr th {\n",
       "        vertical-align: top;\n",
       "    }\n",
       "\n",
       "    .dataframe thead th {\n",
       "        text-align: right;\n",
       "    }\n",
       "</style>\n",
       "<table border=\"1\" class=\"dataframe\">\n",
       "  <thead>\n",
       "    <tr style=\"text-align: right;\">\n",
       "      <th></th>\n",
       "      <th>values</th>\n",
       "    </tr>\n",
       "  </thead>\n",
       "  <tbody>\n",
       "    <tr>\n",
       "      <th>mC</th>\n",
       "      <td>4.7736e+28 kilogram</td>\n",
       "    </tr>\n",
       "    <tr>\n",
       "      <th>init</th>\n",
       "      <td>xA              -997333333333.3334 meter\n",
       "yA   ...</td>\n",
       "    </tr>\n",
       "    <tr>\n",
       "      <th>G</th>\n",
       "      <td>6.674e-11 meter ** 2 * newton / kilogram ** 2</td>\n",
       "    </tr>\n",
       "    <tr>\n",
       "      <th>mA</th>\n",
       "      <td>3.978e+30 kilogram</td>\n",
       "    </tr>\n",
       "    <tr>\n",
       "      <th>mB</th>\n",
       "      <td>1.989e+30 kilogram</td>\n",
       "    </tr>\n",
       "    <tr>\n",
       "      <th>rA</th>\n",
       "      <td>11893050000.0 meter</td>\n",
       "    </tr>\n",
       "    <tr>\n",
       "      <th>rB</th>\n",
       "      <td>55640000.0 meter</td>\n",
       "    </tr>\n",
       "    <tr>\n",
       "      <th>t_0</th>\n",
       "      <td>0 second</td>\n",
       "    </tr>\n",
       "    <tr>\n",
       "      <th>t_end</th>\n",
       "      <td>3216672000 second</td>\n",
       "    </tr>\n",
       "  </tbody>\n",
       "</table>\n",
       "</div>"
      ],
      "text/plain": [
       "mC                                     4.7736e+28 kilogram\n",
       "init     xA              -997333333333.3334 meter\n",
       "yA   ...\n",
       "G            6.674e-11 meter ** 2 * newton / kilogram ** 2\n",
       "mA                                      3.978e+30 kilogram\n",
       "mB                                      1.989e+30 kilogram\n",
       "rA                                     11893050000.0 meter\n",
       "rB                                        55640000.0 meter\n",
       "t_0                                               0 second\n",
       "t_end                                    3216672000 second\n",
       "dtype: object"
      ]
     },
     "execution_count": 260,
     "metadata": {},
     "output_type": "execute_result"
    }
   ],
   "source": [
    "TC = 5 * 365 * 24 * 60 *60 *s\n",
    "\n",
    "system = System(mC = 0.024*m_sun,\n",
    "                 init = init,\n",
    "                 G = 6.674e-11 * N / kg**2 * m**2,\n",
    "                 mA = 2*m_sun, \n",
    "                 mB = m_sun,\n",
    "                 rA = 1.71 * r_sun,\n",
    "                 rB= 0.008*r_sun,\n",
    "                 t_0 = 0 *s,\n",
    "                 t_end = T * 2\n",
    "                 \n",
    "                )"
   ]
  },
  {
   "cell_type": "code",
   "execution_count": 261,
   "metadata": {},
   "outputs": [],
   "source": [
    "def universal_gravity(state, system):    \n",
    "    \"\"\"\"\n",
    "    Calculating gravitational force between Sirius A and Sirius B\n",
    "    Taking the center of mass as origin\n",
    "    xA, yA: posistion of Sirius A \n",
    "    xB, yB: position of Sirius B\n",
    "    vxA, vyA: velocity of Sirius A\n",
    "    vxB, vyB: velocity of Sirius B\n",
    "    \"\"\"\n",
    "    xA, yA, vxA, vyA, xB, yB, vxB, vyB, xC, yC, vxC, vyC= state\n",
    "    unpack(system)\n",
    "    posA = Vector (xA, yA)\n",
    "    posB = Vector (xB, yB)\n",
    "    posC = Vector (xC, yC)\n",
    "    AB = posB-posA\n",
    "    BA = posA-posB\n",
    "    AC = posA - posC\n",
    "    BC = posB - posC\n",
    "    \n",
    "    \n",
    "    forceAC = AC.hat() * G * mA * mC / AC.mag **2\n",
    "    forceBC = BC.hat() * G * mB * mC / BC.mag **2\n",
    "    forceA =AB.hat() * G * mA *mB/ AB.mag**2 - forceAC\n",
    "    forceB = BA.hat() * G *mA*mB / BA.mag **2 - forceBC\n",
    "    \n",
    "    forceC = forceAC + forceBC\n",
    "    \n",
    "    return forceA, forceB, forceC\n",
    "    "
   ]
  },
  {
   "cell_type": "code",
   "execution_count": 262,
   "metadata": {},
   "outputs": [],
   "source": [
    "def slope_func(state, t, system):\n",
    "    xA, yA, vxA, vyA, xB, yB, vxB, vyB, xC, yC, vxC, vyC= state\n",
    "    unpack(system)\n",
    "    \n",
    "    forceA,forceB, forceC = universal_gravity(state, system)\n",
    "    accA = forceA / mA\n",
    "    accB = forceB / mB\n",
    "    accC = forceC/ mC\n",
    "    accAx = accA[0]\n",
    "    accAy = accA[1]\n",
    "    accBx = accB[0]\n",
    "    accBy = accB[1]\n",
    "    accCx = accC[0]\n",
    "    accCy = accC[1]    \n",
    "\n",
    "    \n",
    "    return vxA, vyA, accAx ,accAy, vxB, vyB, accBx, accBy, vxC, vyC, accCx, accCy\n",
    "    "
   ]
  },
  {
   "cell_type": "code",
   "execution_count": 263,
   "metadata": {},
   "outputs": [
    {
     "data": {
      "text/html": [
       "<div>\n",
       "<style scoped>\n",
       "    .dataframe tbody tr th:only-of-type {\n",
       "        vertical-align: middle;\n",
       "    }\n",
       "\n",
       "    .dataframe tbody tr th {\n",
       "        vertical-align: top;\n",
       "    }\n",
       "\n",
       "    .dataframe thead th {\n",
       "        text-align: right;\n",
       "    }\n",
       "</style>\n",
       "<table border=\"1\" class=\"dataframe\">\n",
       "  <thead>\n",
       "    <tr style=\"text-align: right;\">\n",
       "      <th></th>\n",
       "      <th>values</th>\n",
       "    </tr>\n",
       "  </thead>\n",
       "  <tbody>\n",
       "    <tr>\n",
       "      <th>sol</th>\n",
       "      <td>None</td>\n",
       "    </tr>\n",
       "    <tr>\n",
       "      <th>t_events</th>\n",
       "      <td>[]</td>\n",
       "    </tr>\n",
       "    <tr>\n",
       "      <th>nfev</th>\n",
       "      <td>3164</td>\n",
       "    </tr>\n",
       "    <tr>\n",
       "      <th>njev</th>\n",
       "      <td>0</td>\n",
       "    </tr>\n",
       "    <tr>\n",
       "      <th>nlu</th>\n",
       "      <td>0</td>\n",
       "    </tr>\n",
       "    <tr>\n",
       "      <th>status</th>\n",
       "      <td>0</td>\n",
       "    </tr>\n",
       "    <tr>\n",
       "      <th>message</th>\n",
       "      <td>The solver successfully reached the end of the...</td>\n",
       "    </tr>\n",
       "    <tr>\n",
       "      <th>success</th>\n",
       "      <td>True</td>\n",
       "    </tr>\n",
       "  </tbody>\n",
       "</table>\n",
       "</div>"
      ],
      "text/plain": [
       "sol                                                      None\n",
       "t_events                                                   []\n",
       "nfev                                                     3164\n",
       "njev                                                        0\n",
       "nlu                                                         0\n",
       "status                                                      0\n",
       "message     The solver successfully reached the end of the...\n",
       "success                                                  True\n",
       "dtype: object"
      ]
     },
     "execution_count": 263,
     "metadata": {},
     "output_type": "execute_result"
    }
   ],
   "source": [
    "results, details = run_ode_solver(system, slope_func)\n",
    "details"
   ]
  },
  {
   "cell_type": "code",
   "execution_count": 264,
   "metadata": {},
   "outputs": [
    {
     "data": {
      "text/html": [
       "101.9323619347109 year"
      ],
      "text/latex": [
       "$101.9323619347109 year$"
      ],
      "text/plain": [
       "<Quantity(101.9323619347109, 'year')>"
      ]
     },
     "execution_count": 264,
     "metadata": {},
     "output_type": "execute_result"
    }
   ],
   "source": [
    "t_final = get_last_label(results) * s\n",
    "t_final.to(UNITS.years)"
   ]
  },
  {
   "cell_type": "code",
   "execution_count": 265,
   "metadata": {},
   "outputs": [],
   "source": [
    "ts = linspace(t_0, t_final, 1000)\n",
    "results, details = run_ode_solver(system, slope_func, t_eval=ts)\n"
   ]
  },
  {
   "cell_type": "code",
   "execution_count": 266,
   "metadata": {},
   "outputs": [],
   "source": [
    "xa = results.xA;\n",
    "ya = results.yA;\n",
    "xb = results.xB;\n",
    "yb = results.yB;\n",
    "xc = results.xC;\n",
    "yc = results.yC;"
   ]
  },
  {
   "cell_type": "code",
   "execution_count": 267,
   "metadata": {},
   "outputs": [
    {
     "data": {
      "image/png": "[encoded data removed]",
      "text/plain": [
       "<Figure size 432x288 with 1 Axes>"
      ]
     },
     "metadata": {},
     "output_type": "display_data"
    }
   ],
   "source": [
    "plot(xa, ya, 'b', label = 'Sirius A')\n",
    "plot(xb,yb, 'g', label = 'Sirius B')\n",
    "plot(xc,yc,'r' , label = 'Third star')\n",
    "\n",
    "decorate(title = \"Position and Orbit of Sirius A and B \",\n",
    "        xlabel = 'Distance from the center of Mass (km)',\n",
    "        ylabel = 'Distance from the Center of Mass (km)')"
   ]
  },
  {
   "cell_type": "markdown",
   "metadata": {},
   "source": [
    "#### This trace is quite similar to the first one in which the third star is considered a companion of Sirius A. Because the velocity it has is smaller than the gravitational force from Sirius A, so it is captured and orbits around Sirius A. However, we can still see the trand of collapsing."
   ]
  },
  {
   "cell_type": "markdown",
   "metadata": {},
   "source": [
    "# Abstract: \n",
    "\n",
    "This trinary star model is based on the binary system of Sirius. Most situiation are covered. The model effectively illustrated the different moving patterns of trinary stars which are harder to imagine. Also we used model to verify the statement that trinary star systems, especially when one is considerably light (to be considered a planet), are unstable and most of them will evolve into binary systems."
   ]
  }
 ],
 "metadata": {
  "kernelspec": {
   "display_name": "Python 3",
   "language": "python",
   "name": "python3"
  },
  "language_info": {
   "codemirror_mode": {
    "name": "ipython",
    "version": 3
   },
   "file_extension": ".py",
   "mimetype": "text/x-python",
   "name": "python",
   "nbconvert_exporter": "python",
   "pygments_lexer": "ipython3",
   "version": "3.6.6"
  }
 },
 "nbformat": 4,
 "nbformat_minor": 2
}

{
 "cells": [
  {
   "cell_type": "code",
   "execution_count": 3,
   "metadata": {},
   "outputs": [],
   "source": [
    "# Configure Jupyter so figures appear in the notebook\n",
    "%matplotlib inline\n",
    "\n",
    "# Configure Jupyter to display the assigned value after an assignment\n",
    "%config InteractiveShell.ast_node_interactivity='last_expr_or_assign'\n",
    "\n",
    "# import functions from the modsim.py module\n",
    "from modsim import * \n",
    "\n",
    "from numpy import *"
   ]
  },
  {
   "cell_type": "markdown",
   "metadata": {},
   "source": [
    "# Binary System of Sirius"
   ]
  },
  {
   "cell_type": "markdown",
   "metadata": {},
   "source": [
    "---\n",
    "## Question:\n",
    "### How will the orbit be like if Sirius B experiences a sudden accleration?\n",
    "---\n",
    "\n",
    "We pick a binary star system that we are most familiar with - our neighbor Sirius A and Sirius B. Most stars have a companion, the gravitational force, serving as the centripital force, keeps them moving in orbit around the center of mass. When a star accelarates, the centripetal force it needs to keep in orbit would increase, so the gravitational force is not adequate to keep the star in its original orbit, so the star would actually leave its companion. However, if we assume there is friction or radiation -- something that wastes the kineetic energy, the velocity would go down and the star would be dragged back to its companion. In this model, we would simulate the orbit when Sirius B tries to escape and get pulled back."
   ]
  },
  {
   "cell_type": "code",
   "execution_count": 4,
   "metadata": {},
   "outputs": [
    {
     "data": {
      "text/html": [
       "kilometer"
      ],
      "text/latex": [
       "$kilometer$"
      ],
      "text/plain": [
       "<Unit('kilometer')>"
      ]
     },
     "execution_count": 4,
     "metadata": {},
     "output_type": "execute_result"
    }
   ],
   "source": [
    "# Units \n",
    "s = UNITS.second\n",
    "N = UNITS.newton\n",
    "kg = UNITS.kilogram\n",
    "m = UNITS.meter\n",
    "km = UNITS.kilometer\n"
   ]
  },
  {
   "cell_type": "code",
   "execution_count": 5,
   "metadata": {},
   "outputs": [
    {
     "data": {
      "text/html": [
       "<div>\n",
       "<style scoped>\n",
       "    .dataframe tbody tr th:only-of-type {\n",
       "        vertical-align: middle;\n",
       "    }\n",
       "\n",
       "    .dataframe tbody tr th {\n",
       "        vertical-align: top;\n",
       "    }\n",
       "\n",
       "    .dataframe thead th {\n",
       "        text-align: right;\n",
       "    }\n",
       "</style>\n",
       "<table border=\"1\" class=\"dataframe\">\n",
       "  <thead>\n",
       "    <tr style=\"text-align: right;\">\n",
       "      <th></th>\n",
       "      <th>values</th>\n",
       "    </tr>\n",
       "  </thead>\n",
       "  <tbody>\n",
       "    <tr>\n",
       "      <th>xA</th>\n",
       "      <td>-1994666666.6666667 kilometer</td>\n",
       "    </tr>\n",
       "    <tr>\n",
       "      <th>yA</th>\n",
       "      <td>0 kilometer</td>\n",
       "    </tr>\n",
       "    <tr>\n",
       "      <th>vxA</th>\n",
       "      <td>0.0 kilometer / second</td>\n",
       "    </tr>\n",
       "    <tr>\n",
       "      <th>vyA</th>\n",
       "      <td>7.9482878568752415 kilometer / second</td>\n",
       "    </tr>\n",
       "    <tr>\n",
       "      <th>xB</th>\n",
       "      <td>997333333.3333334 kilometer</td>\n",
       "    </tr>\n",
       "    <tr>\n",
       "      <th>yB</th>\n",
       "      <td>0 kilometer</td>\n",
       "    </tr>\n",
       "    <tr>\n",
       "      <th>vxB</th>\n",
       "      <td>0.0 kilometer / second</td>\n",
       "    </tr>\n",
       "    <tr>\n",
       "      <th>vyB</th>\n",
       "      <td>-3.9741439284376208 kilometer / second</td>\n",
       "    </tr>\n",
       "  </tbody>\n",
       "</table>\n",
       "</div>"
      ],
      "text/plain": [
       "xA              -1994666666.6666667 kilometer\n",
       "yA                                0 kilometer\n",
       "vxA                    0.0 kilometer / second\n",
       "vyA     7.9482878568752415 kilometer / second\n",
       "xB                997333333.3333334 kilometer\n",
       "yB                                0 kilometer\n",
       "vxB                    0.0 kilometer / second\n",
       "vyB    -3.9741439284376208 kilometer / second\n",
       "dtype: object"
      ]
     },
     "execution_count": 5,
     "metadata": {},
     "output_type": "execute_result"
    }
   ],
   "source": [
    "r_0 = 2.992e9 * km\n",
    "T_0 = 50 * 365 * 24 * 60**2 * s\n",
    "init = State(xA = -r_0 *2/3,\n",
    "             yA = 0 *km,\n",
    "             vxA = 0 *km/s,\n",
    "             vyA = 4 / 3*pi*r_0/T_0,\n",
    "             xB = r_0*1/3,\n",
    "             yB = 0 * km,\n",
    "             vxB = 0 *km/s,\n",
    "             vyB = - 2 * pi * r_0 /3 / T_0)"
   ]
  },
  {
   "cell_type": "code",
   "execution_count": null,
   "metadata": {},
   "outputs": [],
   "source": []
  },
  {
   "cell_type": "markdown",
   "metadata": {},
   "source": [
    "The mass of Sirius A is 2.1 times the mass of the sun, rounded to 2.\n",
    "The mass of Sirius B is 0.98 times the mass of the sun, rounded to 1.\n",
    "Therefore the center of mass is at 1/3 of the distance from Sirius A to B."
   ]
  },
  {
   "cell_type": "code",
   "execution_count": 6,
   "metadata": {},
   "outputs": [
    {
     "data": {
      "text/html": [
       "<div>\n",
       "<style scoped>\n",
       "    .dataframe tbody tr th:only-of-type {\n",
       "        vertical-align: middle;\n",
       "    }\n",
       "\n",
       "    .dataframe tbody tr th {\n",
       "        vertical-align: top;\n",
       "    }\n",
       "\n",
       "    .dataframe thead th {\n",
       "        text-align: right;\n",
       "    }\n",
       "</style>\n",
       "<table border=\"1\" class=\"dataframe\">\n",
       "  <thead>\n",
       "    <tr style=\"text-align: right;\">\n",
       "      <th></th>\n",
       "      <th>values</th>\n",
       "    </tr>\n",
       "  </thead>\n",
       "  <tbody>\n",
       "    <tr>\n",
       "      <th>init</th>\n",
       "      <td>xA              -1994666666.6666667 kilometer\n",
       "...</td>\n",
       "    </tr>\n",
       "    <tr>\n",
       "      <th>r</th>\n",
       "      <td>55640.0 kilometer</td>\n",
       "    </tr>\n",
       "    <tr>\n",
       "      <th>G</th>\n",
       "      <td>6.674e-05 kilometer ** 2 * newton / kilogram ** 2</td>\n",
       "    </tr>\n",
       "    <tr>\n",
       "      <th>m</th>\n",
       "      <td>1.9890000000000001e+31 kilogram</td>\n",
       "    </tr>\n",
       "    <tr>\n",
       "      <th>t_0</th>\n",
       "      <td>0 second</td>\n",
       "    </tr>\n",
       "  </tbody>\n",
       "</table>\n",
       "</div>"
      ],
      "text/plain": [
       "init    xA              -1994666666.6666667 kilometer\n",
       "...\n",
       "r                                       55640.0 kilometer\n",
       "G       6.674e-05 kilometer ** 2 * newton / kilogram ** 2\n",
       "m                         1.9890000000000001e+31 kilogram\n",
       "t_0                                              0 second\n",
       "dtype: object"
      ]
     },
     "execution_count": 6,
     "metadata": {},
     "output_type": "execute_result"
    }
   ],
   "source": [
    "m_sun = 1.989*10e30*kg\n",
    "r_sun = 6.955*10e5 *km\n",
    "systemA = System(init = init,\n",
    "                 G = 6.674e-5 * N / kg**2 * km**2,\n",
    "                 m = 2*m_sun,\n",
    "                 r = 1.71 * r_sun,\n",
    "                 t_0 = 0 *s\n",
    "                 )\n",
    "\n",
    "systemB = System (init = init,\n",
    "                 r= 0.008*r_sun,\n",
    "                 G = 6.674e-5 * N / kg**2 * km**2,\n",
    "                 m = m_sun,\n",
    "                 t_0 = 0*s)"
   ]
  },
  {
   "cell_type": "markdown",
   "metadata": {},
   "source": [
    "## To accout for the deceleration of stars, we need to consider the drag force\n",
    "F_drag = 1/2 * rho * mu^2 * Cd * A\n",
    "\n",
    "\n",
    " F_darg is the drag force, which is by definition the force component in the direction of the flow velocity;\n",
    " \n",
    " rho is the is the mass density of the fluid;\n",
    " \n",
    " mu is  the flow velocity relative to the object;\n",
    " \n",
    " A is the reference area;\n",
    " \n",
    " Cd is the drag coefficient, mostly depends on the Reynolds Number."
   ]
  },
  {
   "cell_type": "code",
   "execution_count": 23,
   "metadata": {},
   "outputs": [],
   "source": [
    "def drag(state, velocity, system):\n",
    "    rho = 1.67 *10e-12 * kg/km**3\n",
    "    #Based on research, the average density in outer space is 1 hydrogen atom per 1 cubic cm.\n",
    "    mu = velocity\n",
    "    A = 2 * pi * system.r**2\n",
    " \n",
    "    Cd = 2/3*rho**2\n",
    "    drag_force = rho * mu**2 *Cd * A/2 * km**8/kg**2 /s**2\n",
    "    \n",
    "    return drag_force\n",
    "    "
   ]
  },
  {
   "cell_type": "code",
   "execution_count": 24,
   "metadata": {},
   "outputs": [
    {
     "data": {
      "text/html": [
       "0.013797312996679462 kilogram kilometer/second<sup>2</sup>"
      ],
      "text/latex": [
       "$0.013797312996679462 \\frac{kilogram \\cdot kilometer}{second^{2}}$"
      ],
      "text/plain": [
       "<Quantity(0.013797312996679462, 'kilogram * kilometer / second ** 2')>"
      ]
     },
     "execution_count": 24,
     "metadata": {},
     "output_type": "execute_result"
    }
   ],
   "source": [
    "drag (init, 10e7, systemA)"
   ]
  },
  {
   "cell_type": "code",
   "execution_count": null,
   "metadata": {},
   "outputs": [],
   "source": []
  },
  {
   "cell_type": "code",
   "execution_count": 25,
   "metadata": {},
   "outputs": [],
   "source": [
    "def universal_gravity(state, systemA, systemB):    \n",
    "    \"\"\"\"\n",
    "    Calculating gravitational force between Sirius A and Sirius B\n",
    "    Taking the center of mass as origin\n",
    "    xA, yA: posistion of Sirius A \n",
    "    xB, yB: position of Sirius B\n",
    "    vxA, vyA: velocity of Sirius A\n",
    "    vxB, vyB: velocity of Sirius B\n",
    "    \"\"\"\n",
    "    xA, yA, vxA, yxA, xB, yB, vxB, vyB = state\n",
    "    \n",
    "    posA = Vector (xA, yA)\n",
    "    posB = Vector (xB, yB)\n",
    "    \n",
    "    rA = posA.mag\n",
    "    rB = posB.mag\n",
    "    directionA = posA.hat()\n",
    "    directionB = posB.hat()\n",
    "    forceA = systemA.G * systemA.m *systemB.m / (rA+rB)**2 * directionA\n",
    "    forceB = systemB.G * systemA.m *systemB.m / (rA+rB)**2 * directionB\n",
    "\n",
    "    return rA, rB, forceA, forceB\n",
    "    "
   ]
  },
  {
   "cell_type": "code",
   "execution_count": 26,
   "metadata": {},
   "outputs": [
    {
     "data": {
      "text/plain": [
       "(<Quantity(1994666666.6666667, 'kilometer')>,\n",
       " <Quantity(997333333.3333334, 'kilometer')>,\n",
       " <Quantity([-5.89878525e+39  0.00000000e+00], 'newton')>,\n",
       " <Quantity([5.89878525e+39 0.00000000e+00], 'newton')>)"
      ]
     },
     "execution_count": 26,
     "metadata": {},
     "output_type": "execute_result"
    }
   ],
   "source": [
    "universal_gravity(init, systemA, systemB)"
   ]
  },
  {
   "cell_type": "code",
   "execution_count": 27,
   "metadata": {},
   "outputs": [],
   "source": [
    "def centri_force(state, systemA, systemB):\n",
    "    \"\"\"\n",
    "    Calculating the current cetripetal force needed, related to current velocity and radius.\n",
    "    \n",
    "    \"\"\"\n",
    "    xA, yA, vxA, vyA, xB, yB, vxB, vyB = state\n",
    "    \n",
    "    velA = Vector(vxA, vyA)\n",
    "    velB = Vector(vxB, vyB)\n",
    "    posA = Vector (xA, yA)\n",
    "    posB = Vector (xB, yB)\n",
    "    \n",
    "    vA = velA.mag\n",
    "    vB = velB.mag\n",
    "    rA = posA.mag\n",
    "    rB = posB.mag\n",
    "    \n",
    "    cenA = systemA.m * vA**2 / rA\n",
    "    cenB = systemB.m * vB**2 / rB\n",
    "    \n",
    "    cenA = cenA * (-posA.hat())\n",
    "    cenB = cenB * (-posB.hat())\n",
    "    \n",
    "    return cenA, cenB"
   ]
  },
  {
   "cell_type": "code",
   "execution_count": null,
   "metadata": {},
   "outputs": [],
   "source": []
  },
  {
   "cell_type": "code",
   "execution_count": 28,
   "metadata": {},
   "outputs": [],
   "source": [
    "def comparing_force():\n",
    "    \"\"\"\n",
    "    Updating distance and velocity to keep balance by comparing the gravitational force and the centripetal force required.\n",
    "    \"\"\"\n",
    "    \n",
    "    "
   ]
  },
  {
   "cell_type": "code",
   "execution_count": 29,
   "metadata": {},
   "outputs": [],
   "source": [
    "#def event_func(state):\n"
   ]
  },
  {
   "cell_type": "code",
   "execution_count": 30,
   "metadata": {},
   "outputs": [],
   "source": [
    "def acceleration_force(state, systemA, systemB ):\n",
    "    \n",
    "    xA, yA, vxA, vyA, xB, yB, vxB, vyB = state\n",
    "    rA, rB,  grav_A, grav_B = universal_gravity(state, systemA, systemB)\n",
    "    vA = sqrt(grav_A * rA / systemA.m)\n",
    "    vB = sqrt(grav_B * rB / systemB.m)\n",
    "    \n",
    "   \n",
    "    \n",
    "    vel_A = Vector (vxA, vyA)\n",
    "    vel_B = Vector (vxB, vyB)\n",
    "    \n",
    "    delta_vA = sqrt(rA * drag(state, vA, systemA)/systemA.m)\n",
    "    delta_vB = sqrt(rB * drag(state, vB, systemB)/systemB.m)\n",
    "    \n",
    "    vA = vA-delta_vA\n",
    "    vB = vB-delta_vB\n",
    "    \n",
    "    vA = vA * vel_A.hat()\n",
    "    vB = vB * vel_B.hat()\n",
    "    \n",
    "    return vA, vB"
   ]
  },
  {
   "cell_type": "code",
   "execution_count": 31,
   "metadata": {},
   "outputs": [
    {
     "name": "stderr",
     "output_type": "stream",
     "text": [
      "C:\\Miniconda3\\lib\\site-packages\\ipykernel_launcher.py:5: RuntimeWarning: invalid value encountered in sqrt\n",
      "  \"\"\"\n",
      "C:\\Miniconda3\\lib\\site-packages\\pint\\quantity.py:1236: RuntimeWarning: invalid value encountered in sqrt\n",
      "  out = uf(*mobjs)\n"
     ]
    },
    {
     "ename": "DimensionalityError",
     "evalue": "Cannot convert from 'kilometer ** 0.5 * newton ** 0.5 / kilogram ** 0.5' ([length] / [time]) to 'kilometer ** 1.5 * newton ** 0.5 / kilogram ** 0.5 / second' ([length] ** 2 / [time] ** 2)",
     "output_type": "error",
     "traceback": [
      "\u001b[1;31m---------------------------------------------------------------------------\u001b[0m",
      "\u001b[1;31mDimensionalityError\u001b[0m                       Traceback (most recent call last)",
      "\u001b[1;32m<ipython-input-31-2e5584242794>\u001b[0m in \u001b[0;36m<module>\u001b[1;34m()\u001b[0m\n\u001b[1;32m----> 1\u001b[1;33m \u001b[0macceleration_force\u001b[0m\u001b[1;33m(\u001b[0m\u001b[0minit\u001b[0m\u001b[1;33m,\u001b[0m \u001b[0msystemA\u001b[0m\u001b[1;33m,\u001b[0m \u001b[0msystemB\u001b[0m \u001b[1;33m)\u001b[0m\u001b[1;33m\u001b[0m\u001b[0m\n\u001b[0m",
      "\u001b[1;32m<ipython-input-30-ebfc0ca9b694>\u001b[0m in \u001b[0;36macceleration_force\u001b[1;34m(state, systemA, systemB)\u001b[0m\n\u001b[0;32m     14\u001b[0m     \u001b[0mdelta_vB\u001b[0m \u001b[1;33m=\u001b[0m \u001b[0msqrt\u001b[0m\u001b[1;33m(\u001b[0m\u001b[0mrB\u001b[0m \u001b[1;33m*\u001b[0m \u001b[0mdrag\u001b[0m\u001b[1;33m(\u001b[0m\u001b[0mstate\u001b[0m\u001b[1;33m,\u001b[0m \u001b[0mvB\u001b[0m\u001b[1;33m,\u001b[0m \u001b[0msystemB\u001b[0m\u001b[1;33m)\u001b[0m\u001b[1;33m/\u001b[0m\u001b[0msystemB\u001b[0m\u001b[1;33m.\u001b[0m\u001b[0mm\u001b[0m\u001b[1;33m)\u001b[0m\u001b[1;33m\u001b[0m\u001b[0m\n\u001b[0;32m     15\u001b[0m \u001b[1;33m\u001b[0m\u001b[0m\n\u001b[1;32m---> 16\u001b[1;33m     \u001b[0mvA\u001b[0m \u001b[1;33m=\u001b[0m \u001b[0mvA\u001b[0m\u001b[1;33m-\u001b[0m\u001b[0mdelta_vA\u001b[0m\u001b[1;33m\u001b[0m\u001b[0m\n\u001b[0m\u001b[0;32m     17\u001b[0m     \u001b[0mvB\u001b[0m \u001b[1;33m=\u001b[0m \u001b[0mvB\u001b[0m\u001b[1;33m-\u001b[0m\u001b[0mdelta_vB\u001b[0m\u001b[1;33m\u001b[0m\u001b[0m\n\u001b[0;32m     18\u001b[0m \u001b[1;33m\u001b[0m\u001b[0m\n",
      "\u001b[1;32mC:\\Miniconda3\\lib\\site-packages\\pint\\quantity.py\u001b[0m in \u001b[0;36m__sub__\u001b[1;34m(self, other)\u001b[0m\n\u001b[0;32m    596\u001b[0m \u001b[1;33m\u001b[0m\u001b[0m\n\u001b[0;32m    597\u001b[0m     \u001b[1;32mdef\u001b[0m \u001b[0m__sub__\u001b[0m\u001b[1;33m(\u001b[0m\u001b[0mself\u001b[0m\u001b[1;33m,\u001b[0m \u001b[0mother\u001b[0m\u001b[1;33m)\u001b[0m\u001b[1;33m:\u001b[0m\u001b[1;33m\u001b[0m\u001b[0m\n\u001b[1;32m--> 598\u001b[1;33m         \u001b[1;32mreturn\u001b[0m \u001b[0mself\u001b[0m\u001b[1;33m.\u001b[0m\u001b[0m_add_sub\u001b[0m\u001b[1;33m(\u001b[0m\u001b[0mother\u001b[0m\u001b[1;33m,\u001b[0m \u001b[0moperator\u001b[0m\u001b[1;33m.\u001b[0m\u001b[0msub\u001b[0m\u001b[1;33m)\u001b[0m\u001b[1;33m\u001b[0m\u001b[0m\n\u001b[0m\u001b[0;32m    599\u001b[0m \u001b[1;33m\u001b[0m\u001b[0m\n\u001b[0;32m    600\u001b[0m     \u001b[1;32mdef\u001b[0m \u001b[0m__rsub__\u001b[0m\u001b[1;33m(\u001b[0m\u001b[0mself\u001b[0m\u001b[1;33m,\u001b[0m \u001b[0mother\u001b[0m\u001b[1;33m)\u001b[0m\u001b[1;33m:\u001b[0m\u001b[1;33m\u001b[0m\u001b[0m\n",
      "\u001b[1;32mC:\\Miniconda3\\lib\\site-packages\\pint\\quantity.py\u001b[0m in \u001b[0;36m_add_sub\u001b[1;34m(self, other, op)\u001b[0m\n\u001b[0;32m    507\u001b[0m             raise DimensionalityError(self._units, other._units,\n\u001b[0;32m    508\u001b[0m                                       \u001b[0mself\u001b[0m\u001b[1;33m.\u001b[0m\u001b[0mdimensionality\u001b[0m\u001b[1;33m,\u001b[0m\u001b[1;33m\u001b[0m\u001b[0m\n\u001b[1;32m--> 509\u001b[1;33m                                       other.dimensionality)\n\u001b[0m\u001b[0;32m    510\u001b[0m \u001b[1;33m\u001b[0m\u001b[0m\n\u001b[0;32m    511\u001b[0m         \u001b[1;31m# Next we define some variables to make if-clauses more readable.\u001b[0m\u001b[1;33m\u001b[0m\u001b[1;33m\u001b[0m\u001b[0m\n",
      "\u001b[1;31mDimensionalityError\u001b[0m: Cannot convert from 'kilometer ** 0.5 * newton ** 0.5 / kilogram ** 0.5' ([length] / [time]) to 'kilometer ** 1.5 * newton ** 0.5 / kilogram ** 0.5 / second' ([length] ** 2 / [time] ** 2)"
     ]
    }
   ],
   "source": [
    "def slope_func(state, t, systemA, systemB):\n",
    "    xA, yA, vxA, vyA, xB, yB, vxB, vyB = state\n",
    "    vA, vB = acceleration_force(state, systemA, systemB)\n",
    "    \n",
    "    \n",
    "    return vA.x, vA.y, "
   ]
  },
  {
   "cell_type": "code",
   "execution_count": null,
   "metadata": {},
   "outputs": [],
   "source": []
  }
 ],
 "metadata": {
  "kernelspec": {
   "display_name": "Python 3",
   "language": "python",
   "name": "python3"
  },
  "language_info": {
   "codemirror_mode": {
    "name": "ipython",
    "version": 3
   },
   "file_extension": ".py",
   "mimetype": "text/x-python",
   "name": "python",
   "nbconvert_exporter": "python",
   "pygments_lexer": "ipython3",
   "version": "3.6.6"
  }
 },
 "nbformat": 4,
 "nbformat_minor": 2
}

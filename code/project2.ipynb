{
 "cells": [
  {
   "cell_type": "markdown",
   "metadata": {},
   "source": [
    "Question: \n",
    "How will klebsiella pneumonia, a bacteria spreading through direct contact, develop its antibiotic resistance in a small population?"
   ]
  },
  {
   "cell_type": "code",
   "execution_count": 10,
   "metadata": {},
   "outputs": [],
   "source": [
    "# Configure Jupyter so figures appear in the notebook\n",
    "%matplotlib inline\n",
    "\n",
    "# Configure Jupyter to display the assigned value after an assignment\n",
    "%config InteractiveShell.ast_node_interactivity='last_expr_or_assign'\n",
    "\n",
    "# import functions from the modsim.py module\n",
    "from modsim import *"
   ]
  },
  {
   "cell_type": "code",
   "execution_count": 20,
   "metadata": {},
   "outputs": [],
   "source": [
    "def make_system(beta, gamma, spreading_rate, bacteria_recovering_rate, treatment_resistance, quarantine):\n",
    "    \"\"\"S: susceptible population (Might have recovered but developed antibiotic resistace)\n",
    "       R: Sick people with antibiotic resistance\n",
    "       N: Sick people without antibiotic resistance\n",
    "       RB: resistant bacteria\n",
    "       NR: non-resistant bacteria\n",
    "    \"\"\"\n",
    "    init = State(S=350, R=0, N=0, I=0)\n",
    "    \n",
    "    t_0 = 0\n",
    "    t_end = 30\n",
    "    \n",
    "    return System(init=init, t_0=t_0, t_end = t_end, res_sprd = spreading_rate, bac_recov = bacteria_recovering_rate, beta = beta, gamma = gamma, antibiotic = treatment_resistance, quarantine = quarantine)\n",
    "    "
   ]
  },
  {
   "cell_type": "code",
   "execution_count": 19,
   "metadata": {},
   "outputs": [],
   "source": [
    "def plot_population(S,N,R):\n",
    "    plot(S, '-', label = 'S')\n",
    "    plot(N, '--', label = 'N')\n",
    "    plot(R, ':', label = 'R')\n",
    "    decorate(title ='Under The Infection of Antibiotic Treatment',\n",
    "            xlabel = 'time(days)',\n",
    "            ylabel = 'Population')\n"
   ]
  },
  {
   "cell_type": "code",
   "execution_count": null,
   "metadata": {},
   "outputs": [],
   "source": [
    "def run_simulation(system, update_func):\n",
    "    unpack(system)\n",
    "    \n",
    "    frame = TimeFrame(columns=init.index)\n",
    "    frame.row[t0] = init\n",
    "    \n",
    "    for t in linrange(t0, t_end,dt):\n",
    "        frame.row[t+1] = update_func(frame.row[t], t, system)\n",
    "    \n",
    "    return frame\n",
    "    "
   ]
  },
  {
   "cell_type": "code",
   "execution_count": 21,
   "metadata": {},
   "outputs": [],
   "source": [
    "def update_func(state, t, system):\n",
    "    s, n, r = state\n",
    "    unpack(system)\n",
    "    \n",
    "    infected = beta*s\n",
    "    recovered = gamma*n\n",
    "    \n",
    "    resisting = antibiotic*n + res_sprd*(n-quarantine)\n",
    "    \n",
    "    non_resisting = bac_recov * r\n",
    "    \n",
    "    s_change = recovered-infected\n",
    "    n_change = infected-recovered+resisting+non_resisting\n",
    "    r_change = -non_resisting+resisting\n",
    "    \n",
    "    s+= s_change\n",
    "    n+= n_change\n",
    "    r+= r_change\n",
    "    \n",
    "    return State(S=s, N=n, R=r)"
   ]
  },
  {
   "cell_type": "code",
   "execution_count": null,
   "metadata": {},
   "outputs": [],
   "source": []
  }
 ],
 "metadata": {
  "kernelspec": {
   "display_name": "Python 3",
   "language": "python",
   "name": "python3"
  },
  "language_info": {
   "codemirror_mode": {
    "name": "ipython",
    "version": 3
   },
   "file_extension": ".py",
   "mimetype": "text/x-python",
   "name": "python",
   "nbconvert_exporter": "python",
   "pygments_lexer": "ipython3",
   "version": "3.6.6"
  }
 },
 "nbformat": 4,
 "nbformat_minor": 2
}

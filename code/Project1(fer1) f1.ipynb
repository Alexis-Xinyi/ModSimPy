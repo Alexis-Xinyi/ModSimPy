{
 "cells": [
  {
   "cell_type": "markdown",
   "metadata": {},
   "source": [
    "Question:<br>\n",
    "How does improved medical level (increased life expectancy) affect fertility rate and death rate,therefore age demographics?"
   ]
  },
  {
   "cell_type": "markdown",
   "metadata": {},
   "source": [
    "Methodology:\n",
    "    <br>Input:<br>life expectancy (dataset); <br>fertility rate(dataset);<br>initial young, middle age, and elder population; <br>division of age groups.\n",
    "    <p>Calculation:<br> \"death rate\"(of elder people) based on life expectancy,  <br>\"birth rate\" (among middle age) based on fertility rate, \n",
    "    <br>birth population based on middle age population and \"birth rate\",  \n",
    "    <br>Fixed fertility age(middle age) span;\n",
    "    <br>Elder age updating as people live longer\n",
    "        \n",
    "<p>Updating Function: <br>Assuming 1/age_range of people entering next age stage every year.\n",
    "    \n",
    "   "
   ]
  },
  {
   "cell_type": "code",
   "execution_count": 1405,
   "metadata": {},
   "outputs": [],
   "source": [
    "# Configure Jupyter so figures appear in the notebook\n",
    "%matplotlib inline\n",
    "\n",
    "# Configure Jupyter to display the assigned value after an assignment\n",
    "%config InteractiveShell.ast_node_interactivity='last_expr_or_assign'\n",
    "\n",
    "# import functions from the modsim.py module\n",
    "from modsim import *"
   ]
  },
  {
   "cell_type": "code",
   "execution_count": 1406,
   "metadata": {},
   "outputs": [],
   "source": [
    "#read csv file that contains our data for world population, life expectancy, and fertility rate\n",
    "from pandas import read_csv\n",
    "filename = 'project1data1.csv'\n",
    "tables = read_csv(filename, header=0, index_col=0, decimal='M');"
   ]
  },
  {
   "cell_type": "code",
   "execution_count": 1425,
   "metadata": {},
   "outputs": [],
   "source": [
    "def plot_results(un, ts_young, ts_middle, ts_old, timeseries, title):\n",
    "    \"\"\"Plot the estimates and the model.\n",
    "    un: TimeSeries of population estimates\n",
    "    timeseries: TimeSeries of simulation results\n",
    "    title: string\n",
    "    \"\"\"\n",
    "    plot(un, '--', label='UN DESA')\n",
    "    plot(ts_young, color='blue', label='young population')\n",
    "    plot(ts_middle, color='black', label='Mid-age poplation')\n",
    "    plot(ts_old, color='green', label='elder population')\n",
    "    plot(timeseries, color='gray', label='total')\n",
    "    \n",
    "    decorate(xlabel='Year', \n",
    "             ylabel='World population (billion)',\n",
    "             title=title)"
   ]
  },
  {
   "cell_type": "code",
   "execution_count": 1417,
   "metadata": {},
   "outputs": [],
   "source": [
    "\"\"\"Our notebook was confused by decimals so within our data set we \n",
    "multiplied our numbers by 1000 in order to get rid of the decimals, \n",
    "so we then had to divide by 1000\"\"\"\n",
    "life_expectancy = tables._expectancyx1000/1000\n",
    "fer_rate = tables.fer_ratex1000/1000\n",
    "un = tables.UN / 1e9; #In billions"
   ]
  },
  {
   "cell_type": "code",
   "execution_count": 1418,
   "metadata": {},
   "outputs": [],
   "source": [
    "\"\"\"In order to divide the population into young middle and old, \n",
    "we found the global age demographics in 1965: 37.8% under 15, \n",
    "42.2% between 15 and 44, and 20% 45 and older.\"\"\"\n",
    "young = get_first_value(un) * 0.378\n",
    "old= get_first_value(un) * 0.2\n",
    "middle = get_first_value(un)*0.422\n",
    "init = State(young=young, middle=middle, old=old);\n",
    "\"\"\"\"\"\"\n",
    "\n",
    "birth_rate = fer_rate/(31*2);\n",
    "#children per woman in her fer age per year"
   ]
  },
  {
   "cell_type": "code",
   "execution_count": 1419,
   "metadata": {},
   "outputs": [],
   "source": [
    "\"\"\"The age years under 15 is 14, so we assume that 1/14 of them gets 15 (which counts as a middle age) gets mature.\n",
    "    The same applies that 1/31 of the middle age people gets old.\"\"\"\n",
    "\n",
    "system = System(t_0 = 1965,\n",
    "                t_end = 2016,\n",
    "                init=init);"
   ]
  },
  {
   "cell_type": "code",
   "execution_count": 1420,
   "metadata": {},
   "outputs": [],
   "source": [
    "def update_func1(state, t, system):\n",
    "    \"\"\"This functions illustrates the situation every year:\n",
    "    \"\"\"\n",
    "    if(t<1976):\n",
    "        old_age = 42\n",
    "    else:\n",
    "        old_age = 45\n",
    "    #defining different old age based on prolonged life span\n",
    "    \n",
    "    elder_rate = 1/(30+1)\n",
    "    #1/31 of the middle age people gets old every year\n",
    "    mature_rate = 1/(old_age-30)\n",
    "    #1/(young pop age span) enters fertility age evey year\n",
    "    death_rate = 1/((life_expectancy[t])-old_age-1)\n",
    "    birth_rate2 = birth_rate[t]\n",
    "    births = birth_rate2*state.middle\n",
    "    #New born babies based on the middle age population.\n",
    "    maturings = mature_rate * state.young\n",
    "    #1/14 young people entering middle age.\n",
    "    agings = elder_rate * state.middle\n",
    "    #1/31 middle age gets old.\n",
    "    #death_rate2 = death_rate[t]\n",
    "    #death rate based on the life expectancy\n",
    "    deaths = death_rate * state.old\n",
    "    young = state.young + births - maturings\n",
    "    middle = state.middle + maturings - agings\n",
    "    old = state.old + agings - deaths\n",
    "    #calculating updated age groups population\n",
    "    #print(death_rate, deaths)\n",
    "    \n",
    "    return State(young=young, middle=middle, old=old)\n",
    "    "
   ]
  },
  {
   "cell_type": "code",
   "execution_count": 1421,
   "metadata": {},
   "outputs": [
    {
     "data": {
      "text/html": [
       "<div>\n",
       "<style scoped>\n",
       "    .dataframe tbody tr th:only-of-type {\n",
       "        vertical-align: middle;\n",
       "    }\n",
       "\n",
       "    .dataframe tbody tr th {\n",
       "        vertical-align: top;\n",
       "    }\n",
       "\n",
       "    .dataframe thead th {\n",
       "        text-align: right;\n",
       "    }\n",
       "</style>\n",
       "<table border=\"1\" class=\"dataframe\">\n",
       "  <thead>\n",
       "    <tr style=\"text-align: right;\">\n",
       "      <th></th>\n",
       "      <th>values</th>\n",
       "    </tr>\n",
       "  </thead>\n",
       "  <tbody>\n",
       "    <tr>\n",
       "      <th>young</th>\n",
       "      <td>1.267405</td>\n",
       "    </tr>\n",
       "    <tr>\n",
       "      <th>middle</th>\n",
       "      <td>1.464438</td>\n",
       "    </tr>\n",
       "    <tr>\n",
       "      <th>old</th>\n",
       "      <td>0.646255</td>\n",
       "    </tr>\n",
       "  </tbody>\n",
       "</table>\n",
       "</div>"
      ],
      "text/plain": [
       "young     1.267405\n",
       "middle    1.464438\n",
       "old       0.646255\n",
       "dtype: float64"
      ]
     },
     "execution_count": 1421,
     "metadata": {},
     "output_type": "execute_result"
    }
   ],
   "source": [
    "state = update_func1(init, system.t_0, system)\n",
    "#initializing age groups"
   ]
  },
  {
   "cell_type": "code",
   "execution_count": 1422,
   "metadata": {},
   "outputs": [],
   "source": [
    "state = update_func1(state, system.t_0, system);\n",
    "#updating each year"
   ]
  },
  {
   "cell_type": "code",
   "execution_count": 1423,
   "metadata": {},
   "outputs": [],
   "source": [
    "def run_simulation(system, update_func):\n",
    "    \"\"\"Simulate the system using any update function.\n",
    "    \n",
    "    init: initial State object\n",
    "    system: System object\n",
    "    update_func: function that computes the population next year\n",
    "    \n",
    "    returns: TimeSeries\n",
    "    \"\"\"\n",
    "    results = TimeSeries() \n",
    "    results_young = TimeSeries()\n",
    "    results_middle = TimeSeries()\n",
    "    results_old = TimeSeries()\n",
    "    \n",
    "    state = system.init\n",
    "    results[system.t_0] = state.young + state.middle + state.old\n",
    "    \n",
    "    for t in linrange(system.t_0, system.t_end):\n",
    "        state = update_func(state, t, system)\n",
    "        results[t+1] = state.young + state.middle + state.old\n",
    "        results_young[t+1] = state.young\n",
    "        results_middle[t+1] =state.middle\n",
    "        results_old[t+1] =state.old\n",
    "        \n",
    "    return results, results_young, results_middle, results_old"
   ]
  },
  {
   "cell_type": "code",
   "execution_count": 1426,
   "metadata": {
    "scrolled": true
   },
   "outputs": [
    {
     "data": {
      "image/png": "[encoded data removed]",
      "text/plain": [
       "<Figure size 432x288 with 1 Axes>"
      ]
     },
     "metadata": {},
     "output_type": "display_data"
    }
   ],
   "source": [
    "\"\"\"Saving the data in TimeSeries\"\"\"\n",
    "results = run_simulation(system, update_func1)[0];\n",
    "results_young = run_simulation(system, update_func1)[1];\n",
    "results_middle = run_simulation(system, update_func1)[2];\n",
    "results_old = run_simulation(system, update_func1)[3];\n",
    "plot_results(un, results_young, results_middle, results_old, results, 'World population estimates')"
   ]
  },
  {
   "cell_type": "markdown",
   "metadata": {},
   "source": [
    "#### Results:<p>\n",
    "    As the life expectancy gets bigger, the youngest age group levels off as the other groups get more population. The elder group population grows fastest. The curves of young and aged population are even going to intersect.\n",
    "    "
   ]
  },
  {
   "cell_type": "markdown",
   "metadata": {},
   "source": [
    "Interpretation:<p>\n",
    "As the life expectancy gets longer, the old age group constantly grows bigger and the young population (or the birth rate) is actually decreasing.\n",
    "<p> The model (added up 3 age groups) fits well with actual population, and the trends of age demographics shows that with the increased medical level, people have fewer children and can live longer, as we expected.\n",
    "  <p>From 2000, the model doesn't fit that well, might due to the middle age range we defined should have been updated."
   ]
  },
  {
   "cell_type": "code",
   "execution_count": null,
   "metadata": {},
   "outputs": [],
   "source": []
  },
  {
   "cell_type": "code",
   "execution_count": null,
   "metadata": {},
   "outputs": [],
   "source": []
  }
 ],
 "metadata": {
  "kernelspec": {
   "display_name": "Python 3",
   "language": "python",
   "name": "python3"
  },
  "language_info": {
   "codemirror_mode": {
    "name": "ipython",
    "version": 3
   },
   "file_extension": ".py",
   "mimetype": "text/x-python",
   "name": "python",
   "nbconvert_exporter": "python",
   "pygments_lexer": "ipython3",
   "version": "3.6.6"
  }
 },
 "nbformat": 4,
 "nbformat_minor": 2
}
